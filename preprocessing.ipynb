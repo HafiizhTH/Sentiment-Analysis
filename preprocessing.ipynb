{
 "cells": [
  {
   "cell_type": "code",
   "execution_count": 1,
   "metadata": {},
   "outputs": [],
   "source": [
    "import pandas as pd \n",
    "import numpy as np \n",
    "import matplotlib.pyplot as plt \n",
    "import seaborn as sns \n",
    "\n",
    "import re\n",
    "import emoji\n",
    "import nltk\n",
    "from nltk.corpus import stopwords\n",
    "from nltk.tokenize import word_tokenize\n",
    "from Sastrawi.Stemmer.StemmerFactory import StemmerFactory\n",
    "from textblob import TextBlob\n",
    "\n",
    "import warnings\n",
    "warnings.filterwarnings('ignore')"
   ]
  },
  {
   "cell_type": "code",
   "execution_count": 3,
   "metadata": {},
   "outputs": [
    {
     "name": "stderr",
     "output_type": "stream",
     "text": [
      "[nltk_data] Downloading package stopwords to\n",
      "[nltk_data]     C:\\Users\\Siswantoro\\AppData\\Roaming\\nltk_data...\n",
      "[nltk_data]   Package stopwords is already up-to-date!\n",
      "[nltk_data] Downloading package punkt to\n",
      "[nltk_data]     C:\\Users\\Siswantoro\\AppData\\Roaming\\nltk_data...\n",
      "[nltk_data]   Package punkt is already up-to-date!\n"
     ]
    },
    {
     "data": {
      "text/plain": [
       "True"
      ]
     },
     "execution_count": 3,
     "metadata": {},
     "output_type": "execute_result"
    }
   ],
   "source": [
    "nltk.download('stopwords')\n",
    "nltk.download('punkt')"
   ]
  },
  {
   "cell_type": "markdown",
   "metadata": {},
   "source": [
    "### Preprocessing"
   ]
  },
  {
   "cell_type": "code",
   "execution_count": 2,
   "metadata": {},
   "outputs": [],
   "source": [
    "df = pd.read_csv(r'./data/youtube_comments.csv')"
   ]
  },
  {
   "cell_type": "code",
   "execution_count": 3,
   "metadata": {},
   "outputs": [
    {
     "data": {
      "text/html": [
       "<div>\n",
       "<style scoped>\n",
       "    .dataframe tbody tr th:only-of-type {\n",
       "        vertical-align: middle;\n",
       "    }\n",
       "\n",
       "    .dataframe tbody tr th {\n",
       "        vertical-align: top;\n",
       "    }\n",
       "\n",
       "    .dataframe thead th {\n",
       "        text-align: right;\n",
       "    }\n",
       "</style>\n",
       "<table border=\"1\" class=\"dataframe\">\n",
       "  <thead>\n",
       "    <tr style=\"text-align: right;\">\n",
       "      <th></th>\n",
       "      <th>Author</th>\n",
       "      <th>Comment</th>\n",
       "      <th>Published</th>\n",
       "    </tr>\n",
       "  </thead>\n",
       "  <tbody>\n",
       "    <tr>\n",
       "      <th>0</th>\n",
       "      <td>@ulfianaini</td>\n",
       "      <td>Zonasi gak berlaku di sekolah negeri favorit, ...</td>\n",
       "      <td>2024-12-16T04:12:04Z</td>\n",
       "    </tr>\n",
       "    <tr>\n",
       "      <th>1</th>\n",
       "      <td>@somecomfort</td>\n",
       "      <td>test mtk, 7x8 berapa? jangan kelamaan mikirnya...</td>\n",
       "      <td>2024-12-15T08:06:03Z</td>\n",
       "    </tr>\n",
       "  </tbody>\n",
       "</table>\n",
       "</div>"
      ],
      "text/plain": [
       "         Author                                            Comment  \\\n",
       "0   @ulfianaini  Zonasi gak berlaku di sekolah negeri favorit, ...   \n",
       "1  @somecomfort  test mtk, 7x8 berapa? jangan kelamaan mikirnya...   \n",
       "\n",
       "              Published  \n",
       "0  2024-12-16T04:12:04Z  \n",
       "1  2024-12-15T08:06:03Z  "
      ]
     },
     "execution_count": 3,
     "metadata": {},
     "output_type": "execute_result"
    }
   ],
   "source": [
    "df.head(2)"
   ]
  },
  {
   "cell_type": "code",
   "execution_count": 4,
   "metadata": {},
   "outputs": [
    {
     "name": "stdout",
     "output_type": "stream",
     "text": [
      "total baris 10099\n",
      "total kolom 3\n"
     ]
    }
   ],
   "source": [
    "print('total baris', df.shape[0])\n",
    "print('total kolom', df.shape[1])"
   ]
  },
  {
   "cell_type": "code",
   "execution_count": 5,
   "metadata": {},
   "outputs": [
    {
     "data": {
      "text/plain": [
       "Author       3\n",
       "Comment      0\n",
       "Published    0\n",
       "dtype: int64"
      ]
     },
     "execution_count": 5,
     "metadata": {},
     "output_type": "execute_result"
    }
   ],
   "source": [
    "# Cek missing value\n",
    "\n",
    "df.isna().sum()"
   ]
  },
  {
   "cell_type": "code",
   "execution_count": 6,
   "metadata": {},
   "outputs": [
    {
     "data": {
      "text/plain": [
       "3"
      ]
     },
     "execution_count": 6,
     "metadata": {},
     "output_type": "execute_result"
    }
   ],
   "source": [
    "# Cek duplikasi\n",
    "\n",
    "df.duplicated().sum()"
   ]
  },
  {
   "cell_type": "code",
   "execution_count": 59,
   "metadata": {},
   "outputs": [],
   "source": [
    "df_clean = df.copy()"
   ]
  },
  {
   "cell_type": "code",
   "execution_count": 60,
   "metadata": {},
   "outputs": [
    {
     "data": {
      "text/plain": [
       "Author       0\n",
       "Comment      0\n",
       "Published    0\n",
       "dtype: int64"
      ]
     },
     "execution_count": 60,
     "metadata": {},
     "output_type": "execute_result"
    }
   ],
   "source": [
    "# Menghandle Missing Value\n",
    "\n",
    "df_clean = df_clean.dropna()\n",
    "df_clean.isna().sum()"
   ]
  },
  {
   "cell_type": "code",
   "execution_count": 61,
   "metadata": {},
   "outputs": [
    {
     "data": {
      "text/plain": [
       "0"
      ]
     },
     "execution_count": 61,
     "metadata": {},
     "output_type": "execute_result"
    }
   ],
   "source": [
    "# Menghandle Duplikasi\n",
    "\n",
    "df_clean = df_clean.drop_duplicates()\n",
    "df_clean.duplicated().sum()"
   ]
  },
  {
   "cell_type": "code",
   "execution_count": 62,
   "metadata": {},
   "outputs": [],
   "source": [
    "# Fungsi untuk membersihkan data\n",
    "\n",
    "def remove_emoji(text):\n",
    "    if isinstance(text, str):\n",
    "        return emoji.replace_emoji(text, replace='')\n",
    "    else:\n",
    "        return text\n",
    "\n",
    "def clean_text(text):\n",
    "    text = remove_emoji(text)\n",
    "    if isinstance(text, str):\n",
    "        text = text.lower()\n",
    "        text = re.sub(r'@\\w+|#\\w+|http\\S+', '', text)\n",
    "        text = re.sub(r'[^a-z\\s]', '', text)\n",
    "        text = re.sub(r'\\s+', ' ', text).strip()\n",
    "    return text\n",
    "\n",
    "def remove_stopwords(text, stop_words):\n",
    "    if isinstance(text, str):\n",
    "        return ' '.join([word for word in word_tokenize(text) if word not in stop_words])\n",
    "    return text\n",
    "\n",
    "def apply_stemming(text):\n",
    "    if isinstance(text, str):\n",
    "\n",
    "        factory = StemmerFactory()\n",
    "        stemmer = factory.create_stemmer()\n",
    "\n",
    "        return stemmer.stem(text)\n",
    "    return text\n",
    "\n",
    "def tokenization(text):\n",
    "    return word_tokenize(text)"
   ]
  },
  {
   "cell_type": "code",
   "execution_count": 63,
   "metadata": {},
   "outputs": [
    {
     "data": {
      "text/html": [
       "<div>\n",
       "<style scoped>\n",
       "    .dataframe tbody tr th:only-of-type {\n",
       "        vertical-align: middle;\n",
       "    }\n",
       "\n",
       "    .dataframe tbody tr th {\n",
       "        vertical-align: top;\n",
       "    }\n",
       "\n",
       "    .dataframe thead th {\n",
       "        text-align: right;\n",
       "    }\n",
       "</style>\n",
       "<table border=\"1\" class=\"dataframe\">\n",
       "  <thead>\n",
       "    <tr style=\"text-align: right;\">\n",
       "      <th></th>\n",
       "      <th>Author</th>\n",
       "      <th>Comment</th>\n",
       "      <th>Published</th>\n",
       "      <th>clean_comment</th>\n",
       "    </tr>\n",
       "  </thead>\n",
       "  <tbody>\n",
       "    <tr>\n",
       "      <th>0</th>\n",
       "      <td>@ulfianaini</td>\n",
       "      <td>Zonasi gak berlaku di sekolah negeri favorit, ...</td>\n",
       "      <td>2024-12-16T04:12:04Z</td>\n",
       "      <td>zonasi gak berlaku di sekolah negeri favorit r...</td>\n",
       "    </tr>\n",
       "    <tr>\n",
       "      <th>1</th>\n",
       "      <td>@somecomfort</td>\n",
       "      <td>test mtk, 7x8 berapa? jangan kelamaan mikirnya...</td>\n",
       "      <td>2024-12-15T08:06:03Z</td>\n",
       "      <td>test mtk x berapa jangan kelamaan mikirnya tap...</td>\n",
       "    </tr>\n",
       "  </tbody>\n",
       "</table>\n",
       "</div>"
      ],
      "text/plain": [
       "         Author                                            Comment  \\\n",
       "0   @ulfianaini  Zonasi gak berlaku di sekolah negeri favorit, ...   \n",
       "1  @somecomfort  test mtk, 7x8 berapa? jangan kelamaan mikirnya...   \n",
       "\n",
       "              Published                                      clean_comment  \n",
       "0  2024-12-16T04:12:04Z  zonasi gak berlaku di sekolah negeri favorit r...  \n",
       "1  2024-12-15T08:06:03Z  test mtk x berapa jangan kelamaan mikirnya tap...  "
      ]
     },
     "execution_count": 63,
     "metadata": {},
     "output_type": "execute_result"
    }
   ],
   "source": [
    "df_clean['clean_comment'] = df_clean['Comment'].apply(clean_text)\n",
    "df_clean.head(2)"
   ]
  },
  {
   "cell_type": "code",
   "execution_count": 64,
   "metadata": {},
   "outputs": [
    {
     "data": {
      "text/html": [
       "<div>\n",
       "<style scoped>\n",
       "    .dataframe tbody tr th:only-of-type {\n",
       "        vertical-align: middle;\n",
       "    }\n",
       "\n",
       "    .dataframe tbody tr th {\n",
       "        vertical-align: top;\n",
       "    }\n",
       "\n",
       "    .dataframe thead th {\n",
       "        text-align: right;\n",
       "    }\n",
       "</style>\n",
       "<table border=\"1\" class=\"dataframe\">\n",
       "  <thead>\n",
       "    <tr style=\"text-align: right;\">\n",
       "      <th></th>\n",
       "      <th>Author</th>\n",
       "      <th>Comment</th>\n",
       "      <th>Published</th>\n",
       "      <th>clean_comment</th>\n",
       "    </tr>\n",
       "  </thead>\n",
       "  <tbody>\n",
       "    <tr>\n",
       "      <th>0</th>\n",
       "      <td>@ulfianaini</td>\n",
       "      <td>Zonasi gak berlaku di sekolah negeri favorit, ...</td>\n",
       "      <td>2024-12-16T04:12:04Z</td>\n",
       "      <td>zonasi gak berlaku sekolah negeri favorit rela...</td>\n",
       "    </tr>\n",
       "    <tr>\n",
       "      <th>1</th>\n",
       "      <td>@somecomfort</td>\n",
       "      <td>test mtk, 7x8 berapa? jangan kelamaan mikirnya...</td>\n",
       "      <td>2024-12-15T08:06:03Z</td>\n",
       "      <td>test mtk x mikirnya wk</td>\n",
       "    </tr>\n",
       "  </tbody>\n",
       "</table>\n",
       "</div>"
      ],
      "text/plain": [
       "         Author                                            Comment  \\\n",
       "0   @ulfianaini  Zonasi gak berlaku di sekolah negeri favorit, ...   \n",
       "1  @somecomfort  test mtk, 7x8 berapa? jangan kelamaan mikirnya...   \n",
       "\n",
       "              Published                                      clean_comment  \n",
       "0  2024-12-16T04:12:04Z  zonasi gak berlaku sekolah negeri favorit rela...  \n",
       "1  2024-12-15T08:06:03Z                             test mtk x mikirnya wk  "
      ]
     },
     "execution_count": 64,
     "metadata": {},
     "output_type": "execute_result"
    }
   ],
   "source": [
    "stop_words = set(stopwords.words('indonesian'))\n",
    "\n",
    "df_clean['clean_comment'] = df_clean['clean_comment'].apply(lambda x: remove_stopwords(x, stop_words))\n",
    "df_clean.head(2)"
   ]
  },
  {
   "cell_type": "code",
   "execution_count": 65,
   "metadata": {},
   "outputs": [
    {
     "data": {
      "text/html": [
       "<div>\n",
       "<style scoped>\n",
       "    .dataframe tbody tr th:only-of-type {\n",
       "        vertical-align: middle;\n",
       "    }\n",
       "\n",
       "    .dataframe tbody tr th {\n",
       "        vertical-align: top;\n",
       "    }\n",
       "\n",
       "    .dataframe thead th {\n",
       "        text-align: right;\n",
       "    }\n",
       "</style>\n",
       "<table border=\"1\" class=\"dataframe\">\n",
       "  <thead>\n",
       "    <tr style=\"text-align: right;\">\n",
       "      <th></th>\n",
       "      <th>Author</th>\n",
       "      <th>Comment</th>\n",
       "      <th>Published</th>\n",
       "      <th>clean_comment</th>\n",
       "      <th>tokens</th>\n",
       "    </tr>\n",
       "  </thead>\n",
       "  <tbody>\n",
       "    <tr>\n",
       "      <th>0</th>\n",
       "      <td>@ulfianaini</td>\n",
       "      <td>Zonasi gak berlaku di sekolah negeri favorit, ...</td>\n",
       "      <td>2024-12-16T04:12:04Z</td>\n",
       "      <td>zonasi gak berlaku sekolah negeri favorit rela...</td>\n",
       "      <td>[zonasi, gak, berlaku, sekolah, negeri, favori...</td>\n",
       "    </tr>\n",
       "    <tr>\n",
       "      <th>1</th>\n",
       "      <td>@somecomfort</td>\n",
       "      <td>test mtk, 7x8 berapa? jangan kelamaan mikirnya...</td>\n",
       "      <td>2024-12-15T08:06:03Z</td>\n",
       "      <td>test mtk x mikirnya wk</td>\n",
       "      <td>[test, mtk, x, mikirnya, wk]</td>\n",
       "    </tr>\n",
       "  </tbody>\n",
       "</table>\n",
       "</div>"
      ],
      "text/plain": [
       "         Author                                            Comment  \\\n",
       "0   @ulfianaini  Zonasi gak berlaku di sekolah negeri favorit, ...   \n",
       "1  @somecomfort  test mtk, 7x8 berapa? jangan kelamaan mikirnya...   \n",
       "\n",
       "              Published                                      clean_comment  \\\n",
       "0  2024-12-16T04:12:04Z  zonasi gak berlaku sekolah negeri favorit rela...   \n",
       "1  2024-12-15T08:06:03Z                             test mtk x mikirnya wk   \n",
       "\n",
       "                                              tokens  \n",
       "0  [zonasi, gak, berlaku, sekolah, negeri, favori...  \n",
       "1                       [test, mtk, x, mikirnya, wk]  "
      ]
     },
     "execution_count": 65,
     "metadata": {},
     "output_type": "execute_result"
    }
   ],
   "source": [
    "df_clean['tokens'] = df_clean['clean_comment'].apply(tokenization)\n",
    "df_clean.head(2)"
   ]
  },
  {
   "cell_type": "code",
   "execution_count": 66,
   "metadata": {},
   "outputs": [
    {
     "data": {
      "text/html": [
       "<div>\n",
       "<style scoped>\n",
       "    .dataframe tbody tr th:only-of-type {\n",
       "        vertical-align: middle;\n",
       "    }\n",
       "\n",
       "    .dataframe tbody tr th {\n",
       "        vertical-align: top;\n",
       "    }\n",
       "\n",
       "    .dataframe thead th {\n",
       "        text-align: right;\n",
       "    }\n",
       "</style>\n",
       "<table border=\"1\" class=\"dataframe\">\n",
       "  <thead>\n",
       "    <tr style=\"text-align: right;\">\n",
       "      <th></th>\n",
       "      <th>Author</th>\n",
       "      <th>Comment</th>\n",
       "      <th>Published</th>\n",
       "      <th>clean_comment</th>\n",
       "      <th>tokens</th>\n",
       "      <th>stem_comment</th>\n",
       "    </tr>\n",
       "  </thead>\n",
       "  <tbody>\n",
       "    <tr>\n",
       "      <th>0</th>\n",
       "      <td>@ulfianaini</td>\n",
       "      <td>Zonasi gak berlaku di sekolah negeri favorit, ...</td>\n",
       "      <td>2024-12-16T04:12:04Z</td>\n",
       "      <td>zonasi gak berlaku sekolah negeri favorit rela...</td>\n",
       "      <td>[zonasi, gak, berlaku, sekolah, negeri, favori...</td>\n",
       "      <td>[zonasi, gak, berlaku, sekolah, negeri, favori...</td>\n",
       "    </tr>\n",
       "    <tr>\n",
       "      <th>1</th>\n",
       "      <td>@somecomfort</td>\n",
       "      <td>test mtk, 7x8 berapa? jangan kelamaan mikirnya...</td>\n",
       "      <td>2024-12-15T08:06:03Z</td>\n",
       "      <td>test mtk x mikirnya wk</td>\n",
       "      <td>[test, mtk, x, mikirnya, wk]</td>\n",
       "      <td>[test, mtk, x, mikirnya, wk]</td>\n",
       "    </tr>\n",
       "  </tbody>\n",
       "</table>\n",
       "</div>"
      ],
      "text/plain": [
       "         Author                                            Comment  \\\n",
       "0   @ulfianaini  Zonasi gak berlaku di sekolah negeri favorit, ...   \n",
       "1  @somecomfort  test mtk, 7x8 berapa? jangan kelamaan mikirnya...   \n",
       "\n",
       "              Published                                      clean_comment  \\\n",
       "0  2024-12-16T04:12:04Z  zonasi gak berlaku sekolah negeri favorit rela...   \n",
       "1  2024-12-15T08:06:03Z                             test mtk x mikirnya wk   \n",
       "\n",
       "                                              tokens  \\\n",
       "0  [zonasi, gak, berlaku, sekolah, negeri, favori...   \n",
       "1                       [test, mtk, x, mikirnya, wk]   \n",
       "\n",
       "                                        stem_comment  \n",
       "0  [zonasi, gak, berlaku, sekolah, negeri, favori...  \n",
       "1                       [test, mtk, x, mikirnya, wk]  "
      ]
     },
     "execution_count": 66,
     "metadata": {},
     "output_type": "execute_result"
    }
   ],
   "source": [
    "df_clean['stem_comment'] = df_clean['tokens'].apply(apply_stemming)\n",
    "df_clean.head(2)"
   ]
  },
  {
   "cell_type": "code",
   "execution_count": 67,
   "metadata": {},
   "outputs": [],
   "source": [
    "# Membuat Label\n",
    "\n",
    "def get_sentiment(text):\n",
    "\n",
    "    sentiment = TextBlob(text).sentiment\n",
    "\n",
    "    if sentiment.polarity > 0.1:\n",
    "        return 'positif'\n",
    "    elif sentiment.polarity < -0.1:\n",
    "        return 'negatif'\n",
    "    else:\n",
    "        return 'netral'\n",
    "\n",
    "df_clean['label'] = df_clean['clean_comment'].apply(get_sentiment)"
   ]
  },
  {
   "cell_type": "code",
   "execution_count": 68,
   "metadata": {},
   "outputs": [
    {
     "data": {
      "text/plain": [
       "label\n",
       "netral     9353\n",
       "positif     527\n",
       "negatif     213\n",
       "Name: count, dtype: int64"
      ]
     },
     "execution_count": 68,
     "metadata": {},
     "output_type": "execute_result"
    }
   ],
   "source": [
    "df_clean['label'].value_counts()"
   ]
  },
  {
   "cell_type": "code",
   "execution_count": 69,
   "metadata": {},
   "outputs": [
    {
     "data": {
      "image/png": "[encoded data removed]",
      "text/plain": [
       "<Figure size 600x600 with 1 Axes>"
      ]
     },
     "metadata": {},
     "output_type": "display_data"
    }
   ],
   "source": [
    "def plot_pie(data):\n",
    "\n",
    "    pie_data = data.value_counts()\n",
    "    color_map = {\"positif\": \"#43AD65\", \"netral\": \"#F79647\", \"negatif\": \"#B21E58\"}\n",
    "    \n",
    "    # Buat label\n",
    "    labels = [\n",
    "        (\n",
    "            f\"{str(pie_data.index[i]).title()}\\n{pie_data.values[i]}\"\n",
    "            + f\" ({round(pie_data.values[i] / sum(pie_data.values) * 100, 2)}%)\"\n",
    "        )\n",
    "        for i in range(len(pie_data.values))\n",
    "    ]\n",
    "\n",
    "    # Plot pie chart\n",
    "    plt.figure(figsize=(6, 6))\n",
    "    plt.pie(\n",
    "        pie_data.values,\n",
    "        labels=labels,\n",
    "        colors=[color_map.get(str(x).lower(), \"#cccccc\") for x in pie_data.index],\n",
    "        wedgeprops={\"width\": 0.3},\n",
    "        startangle=90\n",
    "    )\n",
    "\n",
    "    # Informasi total\n",
    "    plt.title(\"Sentiment Distribution\", fontsize=12)\n",
    "    plt.text(0, 0.05, sum(pie_data.values), ha=\"center\", va=\"center\", fontsize=32)\n",
    "    plt.text(0, -0.15, \"Total Tweets\", ha=\"center\", va=\"center\", fontsize=18)\n",
    "    plt.show()\n",
    "\n",
    "plot_pie(df_clean[\"label\"])"
   ]
  },
  {
   "cell_type": "code",
   "execution_count": 70,
   "metadata": {},
   "outputs": [
    {
     "data": {
      "text/html": [
       "<div>\n",
       "<style scoped>\n",
       "    .dataframe tbody tr th:only-of-type {\n",
       "        vertical-align: middle;\n",
       "    }\n",
       "\n",
       "    .dataframe tbody tr th {\n",
       "        vertical-align: top;\n",
       "    }\n",
       "\n",
       "    .dataframe thead th {\n",
       "        text-align: right;\n",
       "    }\n",
       "</style>\n",
       "<table border=\"1\" class=\"dataframe\">\n",
       "  <thead>\n",
       "    <tr style=\"text-align: right;\">\n",
       "      <th></th>\n",
       "      <th>Author</th>\n",
       "      <th>Comment</th>\n",
       "      <th>Published</th>\n",
       "      <th>clean_comment</th>\n",
       "      <th>tokens</th>\n",
       "      <th>stem_comment</th>\n",
       "      <th>label</th>\n",
       "    </tr>\n",
       "  </thead>\n",
       "  <tbody>\n",
       "    <tr>\n",
       "      <th>6959</th>\n",
       "      <td>@SekilasDunia</td>\n",
       "      <td>👍🏻👍🏻👍🏻</td>\n",
       "      <td>2024-10-12T14:45:00Z</td>\n",
       "      <td></td>\n",
       "      <td>[]</td>\n",
       "      <td>[]</td>\n",
       "      <td>netral</td>\n",
       "    </tr>\n",
       "    <tr>\n",
       "      <th>7320</th>\n",
       "      <td>@safarwadi_afank5328</td>\n",
       "      <td>ngeri emang Pendidikan di KONOHA ini, SDM suda...</td>\n",
       "      <td>2024-10-12T03:36:25Z</td>\n",
       "      <td>ngeri emang pendidikan konoha sdm titik rendah...</td>\n",
       "      <td>[ngeri, emang, pendidikan, konoha, sdm, titik,...</td>\n",
       "      <td>[ngeri, emang, pendidikan, konoha, sdm, titik,...</td>\n",
       "      <td>netral</td>\n",
       "    </tr>\n",
       "    <tr>\n",
       "      <th>8179</th>\n",
       "      <td>@bangsast9613</td>\n",
       "      <td>Ponakan saya kelas 3 susah baca, gatau lagi gi...</td>\n",
       "      <td>2024-10-11T06:38:27Z</td>\n",
       "      <td>ponakan kelas susah baca gatau gimana</td>\n",
       "      <td>[ponakan, kelas, susah, baca, gatau, gimana]</td>\n",
       "      <td>[ponakan, kelas, susah, baca, gatau, gimana]</td>\n",
       "      <td>netral</td>\n",
       "    </tr>\n",
       "    <tr>\n",
       "      <th>2544</th>\n",
       "      <td>@sadamhusen9551</td>\n",
       "      <td>menurut saya mendikbud terdahulu sebut saja na...</td>\n",
       "      <td>2024-10-22T08:21:53Z</td>\n",
       "      <td>mendikbud namanya muhajir effendy nadiem makar...</td>\n",
       "      <td>[mendikbud, namanya, muhajir, effendy, nadiem,...</td>\n",
       "      <td>[mendikbud, namanya, muhajir, effendy, nadiem,...</td>\n",
       "      <td>netral</td>\n",
       "    </tr>\n",
       "    <tr>\n",
       "      <th>4749</th>\n",
       "      <td>@kangdjosie</td>\n",
       "      <td>Saya belajar tahun 1982 - 1994.. dimana sejak ...</td>\n",
       "      <td>2024-10-16T06:40:33Z</td>\n",
       "      <td>belajar dimana sd kelas diajar guru profesiona...</td>\n",
       "      <td>[belajar, dimana, sd, kelas, diajar, guru, pro...</td>\n",
       "      <td>[belajar, dimana, sd, kelas, diajar, guru, pro...</td>\n",
       "      <td>netral</td>\n",
       "    </tr>\n",
       "    <tr>\n",
       "      <th>7422</th>\n",
       "      <td>@xingxabar1919</td>\n",
       "      <td>harusnya hadirkan nara sumber yang dulu mengin...</td>\n",
       "      <td>2024-10-12T01:02:37Z</td>\n",
       "      <td>hadirkan nara sumber sistem pendidikan meniru ...</td>\n",
       "      <td>[hadirkan, nara, sumber, sistem, pendidikan, m...</td>\n",
       "      <td>[hadirkan, nara, sumber, sistem, pendidikan, m...</td>\n",
       "      <td>netral</td>\n",
       "    </tr>\n",
       "    <tr>\n",
       "      <th>3061</th>\n",
       "      <td>@wongpandai</td>\n",
       "      <td>nadiem zakariem</td>\n",
       "      <td>2024-10-20T05:17:12Z</td>\n",
       "      <td>nadiem zakariem</td>\n",
       "      <td>[nadiem, zakariem]</td>\n",
       "      <td>[nadiem, zakariem]</td>\n",
       "      <td>netral</td>\n",
       "    </tr>\n",
       "    <tr>\n",
       "      <th>7535</th>\n",
       "      <td>@modalhpdoang8344</td>\n",
       "      <td>Sekolah identik bully menghasilkan generasi pe...</td>\n",
       "      <td>2024-10-11T18:00:07Z</td>\n",
       "      <td>sekolah identik bully menghasilkan generasi pe...</td>\n",
       "      <td>[sekolah, identik, bully, menghasilkan, genera...</td>\n",
       "      <td>[sekolah, identik, bully, menghasilkan, genera...</td>\n",
       "      <td>netral</td>\n",
       "    </tr>\n",
       "    <tr>\n",
       "      <th>8439</th>\n",
       "      <td>@Arif-jt4qg</td>\n",
       "      <td>indonesia butuh tombol reset? (revolusi ke 2)</td>\n",
       "      <td>2024-10-11T04:54:12Z</td>\n",
       "      <td>indonesia butuh tombol reset revolusi</td>\n",
       "      <td>[indonesia, butuh, tombol, reset, revolusi]</td>\n",
       "      <td>[indonesia, butuh, tombol, reset, revolusi]</td>\n",
       "      <td>netral</td>\n",
       "    </tr>\n",
       "    <tr>\n",
       "      <th>9240</th>\n",
       "      <td>@aristafirsantoro1776</td>\n",
       "      <td>Kalo gw sih, kembali ke prinsip, madrasah yang...</td>\n",
       "      <td>2024-10-11T00:06:56Z</td>\n",
       "      <td>kalo gw sih prinsip madrasah utama rumah sekol...</td>\n",
       "      <td>[kalo, gw, sih, prinsip, madrasah, utama, ruma...</td>\n",
       "      <td>[kalo, gw, sih, prinsip, madrasah, utama, ruma...</td>\n",
       "      <td>positif</td>\n",
       "    </tr>\n",
       "  </tbody>\n",
       "</table>\n",
       "</div>"
      ],
      "text/plain": [
       "                     Author  \\\n",
       "6959          @SekilasDunia   \n",
       "7320   @safarwadi_afank5328   \n",
       "8179          @bangsast9613   \n",
       "2544        @sadamhusen9551   \n",
       "4749            @kangdjosie   \n",
       "7422         @xingxabar1919   \n",
       "3061            @wongpandai   \n",
       "7535      @modalhpdoang8344   \n",
       "8439            @Arif-jt4qg   \n",
       "9240  @aristafirsantoro1776   \n",
       "\n",
       "                                                Comment             Published  \\\n",
       "6959                                             👍🏻👍🏻👍🏻  2024-10-12T14:45:00Z   \n",
       "7320  ngeri emang Pendidikan di KONOHA ini, SDM suda...  2024-10-12T03:36:25Z   \n",
       "8179  Ponakan saya kelas 3 susah baca, gatau lagi gi...  2024-10-11T06:38:27Z   \n",
       "2544  menurut saya mendikbud terdahulu sebut saja na...  2024-10-22T08:21:53Z   \n",
       "4749  Saya belajar tahun 1982 - 1994.. dimana sejak ...  2024-10-16T06:40:33Z   \n",
       "7422  harusnya hadirkan nara sumber yang dulu mengin...  2024-10-12T01:02:37Z   \n",
       "3061                                    nadiem zakariem  2024-10-20T05:17:12Z   \n",
       "7535  Sekolah identik bully menghasilkan generasi pe...  2024-10-11T18:00:07Z   \n",
       "8439      indonesia butuh tombol reset? (revolusi ke 2)  2024-10-11T04:54:12Z   \n",
       "9240  Kalo gw sih, kembali ke prinsip, madrasah yang...  2024-10-11T00:06:56Z   \n",
       "\n",
       "                                          clean_comment  \\\n",
       "6959                                                      \n",
       "7320  ngeri emang pendidikan konoha sdm titik rendah...   \n",
       "8179              ponakan kelas susah baca gatau gimana   \n",
       "2544  mendikbud namanya muhajir effendy nadiem makar...   \n",
       "4749  belajar dimana sd kelas diajar guru profesiona...   \n",
       "7422  hadirkan nara sumber sistem pendidikan meniru ...   \n",
       "3061                                    nadiem zakariem   \n",
       "7535  sekolah identik bully menghasilkan generasi pe...   \n",
       "8439              indonesia butuh tombol reset revolusi   \n",
       "9240  kalo gw sih prinsip madrasah utama rumah sekol...   \n",
       "\n",
       "                                                 tokens  \\\n",
       "6959                                                 []   \n",
       "7320  [ngeri, emang, pendidikan, konoha, sdm, titik,...   \n",
       "8179       [ponakan, kelas, susah, baca, gatau, gimana]   \n",
       "2544  [mendikbud, namanya, muhajir, effendy, nadiem,...   \n",
       "4749  [belajar, dimana, sd, kelas, diajar, guru, pro...   \n",
       "7422  [hadirkan, nara, sumber, sistem, pendidikan, m...   \n",
       "3061                                 [nadiem, zakariem]   \n",
       "7535  [sekolah, identik, bully, menghasilkan, genera...   \n",
       "8439        [indonesia, butuh, tombol, reset, revolusi]   \n",
       "9240  [kalo, gw, sih, prinsip, madrasah, utama, ruma...   \n",
       "\n",
       "                                           stem_comment    label  \n",
       "6959                                                 []   netral  \n",
       "7320  [ngeri, emang, pendidikan, konoha, sdm, titik,...   netral  \n",
       "8179       [ponakan, kelas, susah, baca, gatau, gimana]   netral  \n",
       "2544  [mendikbud, namanya, muhajir, effendy, nadiem,...   netral  \n",
       "4749  [belajar, dimana, sd, kelas, diajar, guru, pro...   netral  \n",
       "7422  [hadirkan, nara, sumber, sistem, pendidikan, m...   netral  \n",
       "3061                                 [nadiem, zakariem]   netral  \n",
       "7535  [sekolah, identik, bully, menghasilkan, genera...   netral  \n",
       "8439        [indonesia, butuh, tombol, reset, revolusi]   netral  \n",
       "9240  [kalo, gw, sih, prinsip, madrasah, utama, ruma...  positif  "
      ]
     },
     "execution_count": 70,
     "metadata": {},
     "output_type": "execute_result"
    }
   ],
   "source": [
    "df_clean.sample(10)"
   ]
  },
  {
   "cell_type": "markdown",
   "metadata": {},
   "source": [
    "### Save dataset|"
   ]
  },
  {
   "cell_type": "code",
   "execution_count": 71,
   "metadata": {},
   "outputs": [],
   "source": [
    "# Simpan file\n",
    "\n",
    "df_clean.to_csv('./data/data_clean.csv', index=False) # data yang sudah bersih            "
   ]
  },
  {
   "cell_type": "code",
   "execution_count": null,
   "metadata": {},
   "outputs": [],
   "source": []
  }
 ],
 "metadata": {
  "kernelspec": {
   "display_name": "base",
   "language": "python",
   "name": "python3"
  },
  "language_info": {
   "codemirror_mode": {
    "name": "ipython",
    "version": 3
   },
   "file_extension": ".py",
   "mimetype": "text/x-python",
   "name": "python",
   "nbconvert_exporter": "python",
   "pygments_lexer": "ipython3",
   "version": "3.11.4"
  },
  "orig_nbformat": 4
 },
 "nbformat": 4,
 "nbformat_minor": 2
}
