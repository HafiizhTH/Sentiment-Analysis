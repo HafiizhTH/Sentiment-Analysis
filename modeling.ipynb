{
 "cells": [
  {
   "cell_type": "code",
   "execution_count": 1,
   "metadata": {},
   "outputs": [],
   "source": [
    "import pandas as pd \n",
    "import numpy as np\n",
    "import matplotlib.pyplot as plt\n",
    "import seaborn as sns\n",
    "\n",
    "from sklearn.model_selection import train_test_split\n",
    "from sklearn.feature_extraction.text import TfidfVectorizer\n",
    "from sklearn.naive_bayes import MultinomialNB\n",
    "from sklearn.svm import SVC\n",
    "from sklearn.metrics import accuracy_score, precision_score, recall_score, f1_score\n",
    "from sklearn.metrics import classification_report, confusion_matrix\n",
    "\n",
    "import warnings\n",
    "warnings.filterwarnings('ignore')"
   ]
  },
  {
   "cell_type": "code",
   "execution_count": 2,
   "metadata": {},
   "outputs": [],
   "source": [
    "df = pd.read_csv(r'./data/data_clean.csv')"
   ]
  },
  {
   "cell_type": "code",
   "execution_count": 3,
   "metadata": {},
   "outputs": [
    {
     "data": {
      "text/html": [
       "<div>\n",
       "<style scoped>\n",
       "    .dataframe tbody tr th:only-of-type {\n",
       "        vertical-align: middle;\n",
       "    }\n",
       "\n",
       "    .dataframe tbody tr th {\n",
       "        vertical-align: top;\n",
       "    }\n",
       "\n",
       "    .dataframe thead th {\n",
       "        text-align: right;\n",
       "    }\n",
       "</style>\n",
       "<table border=\"1\" class=\"dataframe\">\n",
       "  <thead>\n",
       "    <tr style=\"text-align: right;\">\n",
       "      <th></th>\n",
       "      <th>Author</th>\n",
       "      <th>Comment</th>\n",
       "      <th>Published</th>\n",
       "      <th>clean_comment</th>\n",
       "      <th>tokens</th>\n",
       "      <th>stem_comment</th>\n",
       "      <th>label</th>\n",
       "    </tr>\n",
       "  </thead>\n",
       "  <tbody>\n",
       "    <tr>\n",
       "      <th>0</th>\n",
       "      <td>@ulfianaini</td>\n",
       "      <td>Zonasi gak berlaku di sekolah negeri favorit, ...</td>\n",
       "      <td>2024-12-16T04:12:04Z</td>\n",
       "      <td>zonasi gak berlaku sekolah negeri favorit rela...</td>\n",
       "      <td>['zonasi', 'gak', 'berlaku', 'sekolah', 'neger...</td>\n",
       "      <td>['zonasi', 'gak', 'berlaku', 'sekolah', 'neger...</td>\n",
       "      <td>netral</td>\n",
       "    </tr>\n",
       "    <tr>\n",
       "      <th>1</th>\n",
       "      <td>@somecomfort</td>\n",
       "      <td>test mtk, 7x8 berapa? jangan kelamaan mikirnya...</td>\n",
       "      <td>2024-12-15T08:06:03Z</td>\n",
       "      <td>test mtk x mikirnya wk</td>\n",
       "      <td>['test', 'mtk', 'x', 'mikirnya', 'wk']</td>\n",
       "      <td>['test', 'mtk', 'x', 'mikirnya', 'wk']</td>\n",
       "      <td>netral</td>\n",
       "    </tr>\n",
       "  </tbody>\n",
       "</table>\n",
       "</div>"
      ],
      "text/plain": [
       "         Author                                            Comment  \\\n",
       "0   @ulfianaini  Zonasi gak berlaku di sekolah negeri favorit, ...   \n",
       "1  @somecomfort  test mtk, 7x8 berapa? jangan kelamaan mikirnya...   \n",
       "\n",
       "              Published                                      clean_comment  \\\n",
       "0  2024-12-16T04:12:04Z  zonasi gak berlaku sekolah negeri favorit rela...   \n",
       "1  2024-12-15T08:06:03Z                             test mtk x mikirnya wk   \n",
       "\n",
       "                                              tokens  \\\n",
       "0  ['zonasi', 'gak', 'berlaku', 'sekolah', 'neger...   \n",
       "1             ['test', 'mtk', 'x', 'mikirnya', 'wk']   \n",
       "\n",
       "                                        stem_comment   label  \n",
       "0  ['zonasi', 'gak', 'berlaku', 'sekolah', 'neger...  netral  \n",
       "1             ['test', 'mtk', 'x', 'mikirnya', 'wk']  netral  "
      ]
     },
     "execution_count": 3,
     "metadata": {},
     "output_type": "execute_result"
    }
   ],
   "source": [
    "df.head(2)"
   ]
  },
  {
   "cell_type": "code",
   "execution_count": 21,
   "metadata": {},
   "outputs": [
    {
     "data": {
      "text/plain": [
       "Author           0\n",
       "Comment          0\n",
       "Published        0\n",
       "clean_comment    0\n",
       "tokens           0\n",
       "stem_comment     0\n",
       "label            0\n",
       "dtype: int64"
      ]
     },
     "execution_count": 21,
     "metadata": {},
     "output_type": "execute_result"
    }
   ],
   "source": [
    "df.isna().sum()"
   ]
  },
  {
   "cell_type": "code",
   "execution_count": 7,
   "metadata": {},
   "outputs": [
    {
     "data": {
      "text/plain": [
       "0"
      ]
     },
     "execution_count": 7,
     "metadata": {},
     "output_type": "execute_result"
    }
   ],
   "source": [
    "df.duplicated().sum()"
   ]
  },
  {
   "cell_type": "code",
   "execution_count": 9,
   "metadata": {},
   "outputs": [],
   "source": [
    "df = df.dropna()"
   ]
  },
  {
   "cell_type": "code",
   "execution_count": 22,
   "metadata": {},
   "outputs": [
    {
     "name": "stdout",
     "output_type": "stream",
     "text": [
      "Training: 8044\n",
      "Testing: 2012\n"
     ]
    }
   ],
   "source": [
    "# Train test split\n",
    "\n",
    "X = df['clean_comment']\n",
    "y = df['label']\n",
    "\n",
    "X_train, X_test, y_train, y_test = train_test_split(X, y, test_size=0.2, random_state=42)\n",
    "\n",
    "print(\"Training:\", len(X_train))\n",
    "print(\"Testing:\", len(X_test))"
   ]
  },
  {
   "cell_type": "code",
   "execution_count": 23,
   "metadata": {},
   "outputs": [],
   "source": [
    "# Menggunakan TF-IDF untuk vectorisasi teks\n",
    "\n",
    "vectorizer = TfidfVectorizer(max_features=1000)\n",
    "X_train = vectorizer.fit_transform(X_train)\n",
    "X_test = vectorizer.transform(X_test)"
   ]
  },
  {
   "cell_type": "code",
   "execution_count": 24,
   "metadata": {},
   "outputs": [
    {
     "name": "stdout",
     "output_type": "stream",
     "text": [
      "  (0, 143)\t0.5099\n",
      "  (0, 152)\t0.4607\n",
      "  (0, 516)\t0.3914\n",
      "  (0, 595)\t0.3425\n",
      "  (0, 693)\t0.4236\n",
      "  (0, 731)\t0.1984\n",
      "  (0, 994)\t0.1961\n",
      "  (1, 124)\t0.208\n",
      "  (1, 168)\t0.1778\n",
      "  (1, 201)\t0.235\n",
      "  (1, 253)\t0.2142\n",
      "  (1, 254)\t0.2466\n",
      "  (1, 328)\t0.1113\n",
      "  (1, 331)\t0.2303\n",
      "  (1, 340)\t0.2211\n",
      "  (1, 489)\t0.1266\n",
      "  (1, 497)\t0.183\n",
      "  (1, 529)\t0.1707\n",
      "  (1, 540)\t0.2019\n",
      "  (1, 570)\t0.4369\n",
      "  (1, 592)\t0.2023\n",
      "  (1, 631)\t0.2218\n",
      "  (1, 721)\t0.2509\n",
      "  (1, 778)\t0.1999\n",
      "  (1, 823)\t0.1845\n",
      "  :\t:\n",
      "  (8039, 751)\t0.2003\n",
      "  (8039, 782)\t0.219\n",
      "  (8039, 813)\t0.1249\n",
      "  (8039, 850)\t0.1588\n",
      "  (8039, 907)\t0.128\n",
      "  (8039, 924)\t0.2034\n",
      "  (8039, 991)\t0.1066\n",
      "  (8040, 725)\t0.7117\n",
      "  (8040, 994)\t0.3963\n",
      "  (8040, 999)\t0.5801\n",
      "  (8041, 51)\t0.464\n",
      "  (8041, 60)\t0.1295\n",
      "  (8041, 285)\t0.168\n",
      "  (8041, 295)\t0.5161\n",
      "  (8041, 389)\t0.2839\n",
      "  (8041, 423)\t0.3997\n",
      "  (8041, 509)\t0.232\n",
      "  (8041, 555)\t0.4233\n",
      "  (8042, 74)\t0.8253\n",
      "  (8042, 593)\t0.4819\n",
      "  (8042, 994)\t0.2943\n",
      "  (8043, 229)\t0.647\n",
      "  (8043, 261)\t0.4922\n",
      "  (8043, 301)\t0.4933\n",
      "  (8043, 858)\t0.3096\n"
     ]
    }
   ],
   "source": [
    "print(round(X_train, 4))"
   ]
  },
  {
   "cell_type": "code",
   "execution_count": 25,
   "metadata": {},
   "outputs": [],
   "source": [
    "# Mapping dan Normalisasi data labels\n",
    "\n",
    "df_mapping = {\n",
    "    'positif':0,\n",
    "    'negatif':1,\n",
    "    'netral':2\n",
    "}\n",
    "\n",
    "y_train = y_train.map(df_mapping)\n",
    "y_test = y_test.map(df_mapping)"
   ]
  },
  {
   "cell_type": "code",
   "execution_count": 26,
   "metadata": {},
   "outputs": [
    {
     "data": {
      "text/plain": [
       "label\n",
       "2    7454\n",
       "0     413\n",
       "1     177\n",
       "Name: count, dtype: int64"
      ]
     },
     "execution_count": 26,
     "metadata": {},
     "output_type": "execute_result"
    }
   ],
   "source": [
    "y_train.value_counts()"
   ]
  },
  {
   "cell_type": "code",
   "execution_count": 28,
   "metadata": {},
   "outputs": [],
   "source": [
    "# Selection models\n",
    "\n",
    "models = {\n",
    "    \"Naive Bayes\": MultinomialNB(),\n",
    "    \"SVM\": SVC()\n",
    "}\n",
    "\n",
    "accuracy, precision, recall, f1 = {}, {}, {}, {}\n",
    "\n",
    "for key in models.keys():\n",
    "    # Melakukan train setiap model\n",
    "    models[key].fit(X_train, y_train)\n",
    "\n",
    "    # Melakukan prediksi model\n",
    "    predict = models[key].predict(X_test)\n",
    "\n",
    "    # Menghitung metrik Accuracy, Precision, Recall, F1 Score\n",
    "    accuracy[key] = accuracy_score(y_test, predict)\n",
    "    precision[key] = precision_score(y_test, predict, average='weighted') \n",
    "    recall[key] = recall_score(y_test, predict, average='weighted')\n",
    "    f1[key] = f1_score(y_test, predict, average='weighted')\n"
   ]
  },
  {
   "cell_type": "code",
   "execution_count": 29,
   "metadata": {},
   "outputs": [
    {
     "data": {
      "text/html": [
       "<div>\n",
       "<style scoped>\n",
       "    .dataframe tbody tr th:only-of-type {\n",
       "        vertical-align: middle;\n",
       "    }\n",
       "\n",
       "    .dataframe tbody tr th {\n",
       "        vertical-align: top;\n",
       "    }\n",
       "\n",
       "    .dataframe thead th {\n",
       "        text-align: right;\n",
       "    }\n",
       "</style>\n",
       "<table border=\"1\" class=\"dataframe\">\n",
       "  <thead>\n",
       "    <tr style=\"text-align: right;\">\n",
       "      <th></th>\n",
       "      <th>Accuracy</th>\n",
       "      <th>Precision</th>\n",
       "      <th>Recall</th>\n",
       "      <th>F1-Score</th>\n",
       "    </tr>\n",
       "  </thead>\n",
       "  <tbody>\n",
       "    <tr>\n",
       "      <th>Naive Bayes</th>\n",
       "      <td>0.93</td>\n",
       "      <td>0.93</td>\n",
       "      <td>0.93</td>\n",
       "      <td>0.89</td>\n",
       "    </tr>\n",
       "    <tr>\n",
       "      <th>SVM</th>\n",
       "      <td>0.94</td>\n",
       "      <td>0.94</td>\n",
       "      <td>0.94</td>\n",
       "      <td>0.92</td>\n",
       "    </tr>\n",
       "  </tbody>\n",
       "</table>\n",
       "</div>"
      ],
      "text/plain": [
       "             Accuracy  Precision  Recall  F1-Score\n",
       "Naive Bayes      0.93       0.93    0.93      0.89\n",
       "SVM              0.94       0.94    0.94      0.92"
      ]
     },
     "execution_count": 29,
     "metadata": {},
     "output_type": "execute_result"
    }
   ],
   "source": [
    "# Menampilkan metriks dari setiap model\n",
    "\n",
    "df_model = pd.DataFrame(index=models.keys(), columns=['Accuracy', 'Precision', 'Recall', 'F1-Score'])\n",
    "df_model['Accuracy'] = accuracy.values()\n",
    "df_model['Precision'] = precision.values()\n",
    "df_model['Recall'] = recall.values()\n",
    "df_model['F1-Score'] = f1.values()\n",
    "\n",
    "round(df_model, 2)"
   ]
  },
  {
   "cell_type": "code",
   "execution_count": 30,
   "metadata": {},
   "outputs": [
    {
     "name": "stdout",
     "output_type": "stream",
     "text": [
      "Akurasi: 0.92744\n",
      "Laporan Klasifikasi:\n",
      "               precision    recall  f1-score   support\n",
      "\n",
      "     Positif       1.00      0.02      0.03       114\n",
      "     Negatif       1.00      0.06      0.11        36\n",
      "      Netral       0.93      1.00      0.96      1862\n",
      "\n",
      "    accuracy                           0.93      2012\n",
      "   macro avg       0.98      0.36      0.37      2012\n",
      "weighted avg       0.93      0.93      0.89      2012\n",
      "\n"
     ]
    }
   ],
   "source": [
    "# Evaluasi model\n",
    "\n",
    "y_pred = models['Naive Bayes'].predict(X_test)\n",
    "\n",
    "print(\"Akurasi:\", accuracy_score(y_test, y_pred).round(5))\n",
    "print(\"Laporan Klasifikasi:\\n\", classification_report(y_test, y_pred, labels=[0, 1, 2], target_names=['Positif', 'Negatif', 'Netral']))"
   ]
  },
  {
   "cell_type": "code",
   "execution_count": 31,
   "metadata": {},
   "outputs": [
    {
     "data": {
      "image/png": "[encoded data removed]",
      "text/plain": [
       "<Figure size 300x300 with 2 Axes>"
      ]
     },
     "metadata": {},
     "output_type": "display_data"
    }
   ],
   "source": [
    "# Confussion Matrix\n",
    "\n",
    "matrix_rf = confusion_matrix(y_test, y_pred)\n",
    "\n",
    "plt.figure(figsize=(3, 3))\n",
    "sns.heatmap(matrix_rf, annot = True, fmt='d', cmap=\"Blues\")\n",
    "plt.title('Confussion Matrix')\n",
    "plt.xlabel('Predicted')\n",
    "plt.ylabel('Actual')\n",
    "plt.show()"
   ]
  },
  {
   "cell_type": "code",
   "execution_count": null,
   "metadata": {},
   "outputs": [],
   "source": []
  }
 ],
 "metadata": {
  "kernelspec": {
   "display_name": "base",
   "language": "python",
   "name": "python3"
  },
  "language_info": {
   "codemirror_mode": {
    "name": "ipython",
    "version": 3
   },
   "file_extension": ".py",
   "mimetype": "text/x-python",
   "name": "python",
   "nbconvert_exporter": "python",
   "pygments_lexer": "ipython3",
   "version": "3.11.4"
  },
  "orig_nbformat": 4
 },
 "nbformat": 4,
 "nbformat_minor": 2
}
