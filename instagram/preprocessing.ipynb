{
 "cells": [
  {
   "cell_type": "code",
   "execution_count": 1,
   "metadata": {},
   "outputs": [],
   "source": [
    "import pandas as pd \n",
    "import numpy as np \n",
    "import matplotlib.pyplot as plt \n",
    "import seaborn as sns \n",
    "\n",
    "import re\n",
    "import emoji\n",
    "import nltk\n",
    "from nltk.corpus import stopwords\n",
    "from nltk.tokenize import word_tokenize\n",
    "from Sastrawi.Stemmer.StemmerFactory import StemmerFactory\n",
    "from textblob import TextBlob\n",
    "\n",
    "import warnings\n",
    "warnings.filterwarnings('ignore')"
   ]
  },
  {
   "cell_type": "code",
   "execution_count": 2,
   "metadata": {},
   "outputs": [
    {
     "name": "stderr",
     "output_type": "stream",
     "text": [
      "[nltk_data] Downloading package stopwords to\n",
      "[nltk_data]     C:\\Users\\Siswantoro\\AppData\\Roaming\\nltk_data...\n",
      "[nltk_data]   Package stopwords is already up-to-date!\n",
      "[nltk_data] Downloading package punkt to\n",
      "[nltk_data]     C:\\Users\\Siswantoro\\AppData\\Roaming\\nltk_data...\n",
      "[nltk_data]   Package punkt is already up-to-date!\n"
     ]
    },
    {
     "data": {
      "text/plain": [
       "True"
      ]
     },
     "execution_count": 2,
     "metadata": {},
     "output_type": "execute_result"
    }
   ],
   "source": [
    "nltk.download('stopwords')\n",
    "nltk.download('punkt')"
   ]
  },
  {
   "cell_type": "markdown",
   "metadata": {},
   "source": [
    "### Preprocessing"
   ]
  },
  {
   "cell_type": "code",
   "execution_count": 2,
   "metadata": {},
   "outputs": [],
   "source": [
    "df = pd.read_csv(r'./instagram.csv')"
   ]
  },
  {
   "cell_type": "code",
   "execution_count": 3,
   "metadata": {},
   "outputs": [
    {
     "data": {
      "text/html": [
       "<div>\n",
       "<style scoped>\n",
       "    .dataframe tbody tr th:only-of-type {\n",
       "        vertical-align: middle;\n",
       "    }\n",
       "\n",
       "    .dataframe tbody tr th {\n",
       "        vertical-align: top;\n",
       "    }\n",
       "\n",
       "    .dataframe thead th {\n",
       "        text-align: right;\n",
       "    }\n",
       "</style>\n",
       "<table border=\"1\" class=\"dataframe\">\n",
       "  <thead>\n",
       "    <tr style=\"text-align: right;\">\n",
       "      <th></th>\n",
       "      <th>username</th>\n",
       "      <th>komentar</th>\n",
       "    </tr>\n",
       "  </thead>\n",
       "  <tbody>\n",
       "    <tr>\n",
       "      <th>0</th>\n",
       "      <td>kompascom</td>\n",
       "      <td>KOREKSI: Dalam infografis tertulis “Periode su...</td>\n",
       "    </tr>\n",
       "    <tr>\n",
       "      <th>1</th>\n",
       "      <td>noto.aries.3</td>\n",
       "      <td>Pdip dukung anies aja, agar bisa menang jadi s...</td>\n",
       "    </tr>\n",
       "  </tbody>\n",
       "</table>\n",
       "</div>"
      ],
      "text/plain": [
       "       username                                           komentar\n",
       "0     kompascom  KOREKSI: Dalam infografis tertulis “Periode su...\n",
       "1  noto.aries.3  Pdip dukung anies aja, agar bisa menang jadi s..."
      ]
     },
     "execution_count": 3,
     "metadata": {},
     "output_type": "execute_result"
    }
   ],
   "source": [
    "df.head(2)"
   ]
  },
  {
   "cell_type": "code",
   "execution_count": 4,
   "metadata": {},
   "outputs": [
    {
     "name": "stdout",
     "output_type": "stream",
     "text": [
      "total baris 412\n",
      "total kolom 2\n"
     ]
    }
   ],
   "source": [
    "print('total baris', df.shape[0])\n",
    "print('total kolom', df.shape[1])"
   ]
  },
  {
   "cell_type": "code",
   "execution_count": 5,
   "metadata": {},
   "outputs": [
    {
     "data": {
      "text/plain": [
       "username    0\n",
       "komentar    2\n",
       "dtype: int64"
      ]
     },
     "execution_count": 5,
     "metadata": {},
     "output_type": "execute_result"
    }
   ],
   "source": [
    "# Cek missing value\n",
    "\n",
    "df.isna().sum()"
   ]
  },
  {
   "cell_type": "code",
   "execution_count": 6,
   "metadata": {},
   "outputs": [
    {
     "data": {
      "text/plain": [
       "2"
      ]
     },
     "execution_count": 6,
     "metadata": {},
     "output_type": "execute_result"
    }
   ],
   "source": [
    "# Cek duplikasi\n",
    "\n",
    "df.duplicated().sum()"
   ]
  },
  {
   "cell_type": "code",
   "execution_count": 7,
   "metadata": {},
   "outputs": [],
   "source": [
    "df_clean = df.copy()"
   ]
  },
  {
   "cell_type": "code",
   "execution_count": 8,
   "metadata": {},
   "outputs": [
    {
     "data": {
      "text/plain": [
       "username    0\n",
       "komentar    0\n",
       "dtype: int64"
      ]
     },
     "execution_count": 8,
     "metadata": {},
     "output_type": "execute_result"
    }
   ],
   "source": [
    "# Menghandle Missing Value\n",
    "\n",
    "df_clean = df_clean.dropna()\n",
    "df_clean.isna().sum()"
   ]
  },
  {
   "cell_type": "code",
   "execution_count": 9,
   "metadata": {},
   "outputs": [
    {
     "data": {
      "text/plain": [
       "0"
      ]
     },
     "execution_count": 9,
     "metadata": {},
     "output_type": "execute_result"
    }
   ],
   "source": [
    "# Menghandle Duplikasi\n",
    "\n",
    "df_clean = df_clean.drop_duplicates()\n",
    "df_clean.duplicated().sum()"
   ]
  },
  {
   "cell_type": "code",
   "execution_count": 10,
   "metadata": {},
   "outputs": [],
   "source": [
    "# Fungsi untuk membersihkan data\n",
    "\n",
    "def remove_emoji(text):\n",
    "    if isinstance(text, str):\n",
    "        return emoji.replace_emoji(text, replace='')\n",
    "    else:\n",
    "        return text\n",
    "\n",
    "def clean_text(text):\n",
    "    text = remove_emoji(text)\n",
    "    if isinstance(text, str):\n",
    "        text = text.lower()\n",
    "        text = re.sub(r'@\\w+|#\\w+|http\\S+', '', text)\n",
    "        text = re.sub(r'[^a-z\\s]', '', text)\n",
    "        text = re.sub(r'\\s+', ' ', text).strip()\n",
    "    return text\n"
   ]
  },
  {
   "cell_type": "code",
   "execution_count": 11,
   "metadata": {},
   "outputs": [],
   "source": [
    "df_clean['clean_comment'] = df_clean['komentar'].apply(clean_text)"
   ]
  },
  {
   "cell_type": "code",
   "execution_count": 12,
   "metadata": {},
   "outputs": [
    {
     "data": {
      "text/html": [
       "<div>\n",
       "<style scoped>\n",
       "    .dataframe tbody tr th:only-of-type {\n",
       "        vertical-align: middle;\n",
       "    }\n",
       "\n",
       "    .dataframe tbody tr th {\n",
       "        vertical-align: top;\n",
       "    }\n",
       "\n",
       "    .dataframe thead th {\n",
       "        text-align: right;\n",
       "    }\n",
       "</style>\n",
       "<table border=\"1\" class=\"dataframe\">\n",
       "  <thead>\n",
       "    <tr style=\"text-align: right;\">\n",
       "      <th></th>\n",
       "      <th>username</th>\n",
       "      <th>komentar</th>\n",
       "      <th>clean_comment</th>\n",
       "    </tr>\n",
       "  </thead>\n",
       "  <tbody>\n",
       "    <tr>\n",
       "      <th>0</th>\n",
       "      <td>kompascom</td>\n",
       "      <td>KOREKSI: Dalam infografis tertulis “Periode su...</td>\n",
       "      <td>koreksi dalam infografis tertulis periode surv...</td>\n",
       "    </tr>\n",
       "    <tr>\n",
       "      <th>1</th>\n",
       "      <td>noto.aries.3</td>\n",
       "      <td>Pdip dukung anies aja, agar bisa menang jadi s...</td>\n",
       "      <td>pdip dukung anies aja agar bisa menang jadi sa...</td>\n",
       "    </tr>\n",
       "    <tr>\n",
       "      <th>2</th>\n",
       "      <td>fakta.jakarta</td>\n",
       "      <td>Kok respondennya cuma 400 orang min? 😂 Di akun...</td>\n",
       "      <td>kok respondennya cuma orang min di akun kami p...</td>\n",
       "    </tr>\n",
       "    <tr>\n",
       "      <th>3</th>\n",
       "      <td>annie_anieeeee</td>\n",
       "      <td>Tetep Ahok ❤️❤️❤️❤️🔥🔥🔥🔥🔥</td>\n",
       "      <td>tetep ahok</td>\n",
       "    </tr>\n",
       "    <tr>\n",
       "      <th>4</th>\n",
       "      <td>info___rumahbaru</td>\n",
       "      <td>ahok aja daripada si mANIES</td>\n",
       "      <td>ahok aja daripada si manies</td>\n",
       "    </tr>\n",
       "    <tr>\n",
       "      <th>...</th>\n",
       "      <td>...</td>\n",
       "      <td>...</td>\n",
       "      <td>...</td>\n",
       "    </tr>\n",
       "    <tr>\n",
       "      <th>407</th>\n",
       "      <td>dermawan.iwan</td>\n",
       "      <td>Babah.... Siapin yg banyak</td>\n",
       "      <td>babah siapin yg banyak</td>\n",
       "    </tr>\n",
       "    <tr>\n",
       "      <th>408</th>\n",
       "      <td>juhendri5834</td>\n",
       "      <td>Anies l</td>\n",
       "      <td>anies l</td>\n",
       "    </tr>\n",
       "    <tr>\n",
       "      <th>409</th>\n",
       "      <td>kambing.jantan.etawa</td>\n",
       "      <td>Hoax ini, harusnya kesang 78 persen😂 bahkan bi...</td>\n",
       "      <td>hoax ini harusnya kesang persen bahkan bisa tr...</td>\n",
       "    </tr>\n",
       "    <tr>\n",
       "      <th>410</th>\n",
       "      <td>_penuntutsurga</td>\n",
       "      <td>Yang 1% nanti berubah jadi 58% 👏 sim salabim j...</td>\n",
       "      <td>yang nanti berubah jadi sim salabim jadi apa p...</td>\n",
       "    </tr>\n",
       "    <tr>\n",
       "      <th>411</th>\n",
       "      <td>zenidahlan</td>\n",
       "      <td>Pasti si doi yg menang🤣</td>\n",
       "      <td>pasti si doi yg menang</td>\n",
       "    </tr>\n",
       "  </tbody>\n",
       "</table>\n",
       "<p>408 rows × 3 columns</p>\n",
       "</div>"
      ],
      "text/plain": [
       "                 username                                           komentar  \\\n",
       "0               kompascom  KOREKSI: Dalam infografis tertulis “Periode su...   \n",
       "1            noto.aries.3  Pdip dukung anies aja, agar bisa menang jadi s...   \n",
       "2           fakta.jakarta  Kok respondennya cuma 400 orang min? 😂 Di akun...   \n",
       "3          annie_anieeeee                           Tetep Ahok ❤️❤️❤️❤️🔥🔥🔥🔥🔥   \n",
       "4        info___rumahbaru                        ahok aja daripada si mANIES   \n",
       "..                    ...                                                ...   \n",
       "407         dermawan.iwan                         Babah.... Siapin yg banyak   \n",
       "408          juhendri5834                                            Anies l   \n",
       "409  kambing.jantan.etawa  Hoax ini, harusnya kesang 78 persen😂 bahkan bi...   \n",
       "410        _penuntutsurga  Yang 1% nanti berubah jadi 58% 👏 sim salabim j...   \n",
       "411            zenidahlan                            Pasti si doi yg menang🤣   \n",
       "\n",
       "                                         clean_comment  \n",
       "0    koreksi dalam infografis tertulis periode surv...  \n",
       "1    pdip dukung anies aja agar bisa menang jadi sa...  \n",
       "2    kok respondennya cuma orang min di akun kami p...  \n",
       "3                                           tetep ahok  \n",
       "4                          ahok aja daripada si manies  \n",
       "..                                                 ...  \n",
       "407                             babah siapin yg banyak  \n",
       "408                                            anies l  \n",
       "409  hoax ini harusnya kesang persen bahkan bisa tr...  \n",
       "410  yang nanti berubah jadi sim salabim jadi apa p...  \n",
       "411                             pasti si doi yg menang  \n",
       "\n",
       "[408 rows x 3 columns]"
      ]
     },
     "execution_count": 12,
     "metadata": {},
     "output_type": "execute_result"
    }
   ],
   "source": [
    "df_clean"
   ]
  },
  {
   "cell_type": "code",
   "execution_count": 13,
   "metadata": {},
   "outputs": [],
   "source": [
    "# Menghapus stopwords\n",
    "\n",
    "stop_words = set(stopwords.words('indonesian'))\n",
    "df_clean['clean_comment'] = df_clean['clean_comment'].apply(\n",
    "    lambda x: ' '.join([\n",
    "        word for word in word_tokenize(x) if word not in stop_words\n",
    "        ]) \n",
    "        if isinstance(x, str) else x\n",
    ")"
   ]
  },
  {
   "cell_type": "code",
   "execution_count": 14,
   "metadata": {},
   "outputs": [],
   "source": [
    "# Membuat Stemmer\n",
    "\n",
    "factory = StemmerFactory()\n",
    "stemmer = factory.create_stemmer()\n",
    "\n",
    "df_clean['stem_comment'] = df_clean['clean_comment'].apply(\n",
    "    lambda x: stemmer.stem(x) if isinstance(x, str) else ''\n",
    ")"
   ]
  },
  {
   "cell_type": "code",
   "execution_count": 15,
   "metadata": {},
   "outputs": [],
   "source": [
    "# Membuat Tokenisasi\n",
    "\n",
    "df_clean['tokens'] = df_clean['stem_comment'].apply(\n",
    "    lambda x: word_tokenize(x) if isinstance(x, str) else []\n",
    ")"
   ]
  },
  {
   "cell_type": "code",
   "execution_count": 16,
   "metadata": {},
   "outputs": [],
   "source": [
    "# Membuat Label\n",
    "\n",
    "def get_sentiment(text):\n",
    "\n",
    "    sentiment = TextBlob(text).sentiment\n",
    "\n",
    "    if sentiment.polarity > 0.1:\n",
    "        return 'positif'\n",
    "    elif sentiment.polarity < -0.1:\n",
    "        return 'negatif'\n",
    "    else:\n",
    "        return 'netral'\n",
    "\n",
    "df_clean['label'] = df_clean['clean_comment'].apply(get_sentiment)"
   ]
  },
  {
   "cell_type": "code",
   "execution_count": 17,
   "metadata": {},
   "outputs": [
    {
     "data": {
      "text/plain": [
       "label\n",
       "netral     397\n",
       "positif      7\n",
       "negatif      4\n",
       "Name: count, dtype: int64"
      ]
     },
     "execution_count": 17,
     "metadata": {},
     "output_type": "execute_result"
    }
   ],
   "source": [
    "df_clean['label'].value_counts()"
   ]
  },
  {
   "cell_type": "code",
   "execution_count": 18,
   "metadata": {},
   "outputs": [
    {
     "data": {
      "text/html": [
       "<div>\n",
       "<style scoped>\n",
       "    .dataframe tbody tr th:only-of-type {\n",
       "        vertical-align: middle;\n",
       "    }\n",
       "\n",
       "    .dataframe tbody tr th {\n",
       "        vertical-align: top;\n",
       "    }\n",
       "\n",
       "    .dataframe thead th {\n",
       "        text-align: right;\n",
       "    }\n",
       "</style>\n",
       "<table border=\"1\" class=\"dataframe\">\n",
       "  <thead>\n",
       "    <tr style=\"text-align: right;\">\n",
       "      <th></th>\n",
       "      <th>username</th>\n",
       "      <th>komentar</th>\n",
       "      <th>clean_comment</th>\n",
       "      <th>stem_comment</th>\n",
       "      <th>tokens</th>\n",
       "      <th>label</th>\n",
       "    </tr>\n",
       "  </thead>\n",
       "  <tbody>\n",
       "    <tr>\n",
       "      <th>0</th>\n",
       "      <td>kompascom</td>\n",
       "      <td>KOREKSI: Dalam infografis tertulis “Periode su...</td>\n",
       "      <td>koreksi infografis tertulis periode survei jul...</td>\n",
       "      <td>koreksi infografis tulis periode survei juli p...</td>\n",
       "      <td>[koreksi, infografis, tulis, periode, survei, ...</td>\n",
       "      <td>netral</td>\n",
       "    </tr>\n",
       "    <tr>\n",
       "      <th>1</th>\n",
       "      <td>noto.aries.3</td>\n",
       "      <td>Pdip dukung anies aja, agar bisa menang jadi s...</td>\n",
       "      <td>pdip dukung anies aja menang sakit hati pilpre...</td>\n",
       "      <td>pdip dukung anies aja menang sakit hati pilpre...</td>\n",
       "      <td>[pdip, dukung, anies, aja, menang, sakit, hati...</td>\n",
       "      <td>netral</td>\n",
       "    </tr>\n",
       "  </tbody>\n",
       "</table>\n",
       "</div>"
      ],
      "text/plain": [
       "       username                                           komentar  \\\n",
       "0     kompascom  KOREKSI: Dalam infografis tertulis “Periode su...   \n",
       "1  noto.aries.3  Pdip dukung anies aja, agar bisa menang jadi s...   \n",
       "\n",
       "                                       clean_comment  \\\n",
       "0  koreksi infografis tertulis periode survei jul...   \n",
       "1  pdip dukung anies aja menang sakit hati pilpre...   \n",
       "\n",
       "                                        stem_comment  \\\n",
       "0  koreksi infografis tulis periode survei juli p...   \n",
       "1  pdip dukung anies aja menang sakit hati pilpre...   \n",
       "\n",
       "                                              tokens   label  \n",
       "0  [koreksi, infografis, tulis, periode, survei, ...  netral  \n",
       "1  [pdip, dukung, anies, aja, menang, sakit, hati...  netral  "
      ]
     },
     "execution_count": 18,
     "metadata": {},
     "output_type": "execute_result"
    }
   ],
   "source": [
    "df_clean.head(2)"
   ]
  },
  {
   "cell_type": "markdown",
   "metadata": {},
   "source": [
    "### Save dataset|"
   ]
  },
  {
   "cell_type": "code",
   "execution_count": 21,
   "metadata": {},
   "outputs": [],
   "source": [
    "# Simpan file\n",
    "\n",
    "df_clean.to_csv('./data_clean.csv', index=False) # data yang sudah bersih            "
   ]
  },
  {
   "cell_type": "code",
   "execution_count": null,
   "metadata": {},
   "outputs": [],
   "source": []
  }
 ],
 "metadata": {
  "kernelspec": {
   "display_name": "base",
   "language": "python",
   "name": "python3"
  },
  "language_info": {
   "codemirror_mode": {
    "name": "ipython",
    "version": 3
   },
   "file_extension": ".py",
   "mimetype": "text/x-python",
   "name": "python",
   "nbconvert_exporter": "python",
   "pygments_lexer": "ipython3",
   "version": "3.11.4"
  },
  "orig_nbformat": 4
 },
 "nbformat": 4,
 "nbformat_minor": 2
}
