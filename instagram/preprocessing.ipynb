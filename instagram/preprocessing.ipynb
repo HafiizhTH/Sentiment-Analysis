{
 "cells": [
  {
   "cell_type": "code",
   "execution_count": 2,
   "metadata": {},
   "outputs": [],
   "source": [
    "import pandas as pd \n",
    "import numpy as np \n",
    "import matplotlib.pyplot as plt \n",
    "import seaborn as sns \n",
    "\n",
    "import re\n",
    "import emoji\n",
    "import nltk\n",
    "from nltk.corpus import stopwords\n",
    "from nltk.tokenize import word_tokenize\n",
    "from Sastrawi.Stemmer.StemmerFactory import StemmerFactory\n",
    "from textblob import TextBlob\n",
    "\n",
    "import warnings\n",
    "warnings.filterwarnings('ignore')"
   ]
  },
  {
   "cell_type": "code",
   "execution_count": 3,
   "metadata": {},
   "outputs": [
    {
     "name": "stderr",
     "output_type": "stream",
     "text": [
      "[nltk_data] Downloading package stopwords to\n",
      "[nltk_data]     C:\\Users\\Siswantoro\\AppData\\Roaming\\nltk_data...\n",
      "[nltk_data]   Package stopwords is already up-to-date!\n",
      "[nltk_data] Downloading package punkt to\n",
      "[nltk_data]     C:\\Users\\Siswantoro\\AppData\\Roaming\\nltk_data...\n",
      "[nltk_data]   Package punkt is already up-to-date!\n"
     ]
    },
    {
     "data": {
      "text/plain": [
       "True"
      ]
     },
     "execution_count": 3,
     "metadata": {},
     "output_type": "execute_result"
    }
   ],
   "source": [
    "nltk.download('stopwords')\n",
    "nltk.download('punkt')"
   ]
  },
  {
   "cell_type": "markdown",
   "metadata": {},
   "source": [
    "### Preprocessing"
   ]
  },
  {
   "cell_type": "code",
   "execution_count": 25,
   "metadata": {},
   "outputs": [],
   "source": [
    "df = pd.read_csv(r'./instagram.csv')"
   ]
  },
  {
   "cell_type": "code",
   "execution_count": 26,
   "metadata": {},
   "outputs": [
    {
     "data": {
      "text/html": [
       "<div>\n",
       "<style scoped>\n",
       "    .dataframe tbody tr th:only-of-type {\n",
       "        vertical-align: middle;\n",
       "    }\n",
       "\n",
       "    .dataframe tbody tr th {\n",
       "        vertical-align: top;\n",
       "    }\n",
       "\n",
       "    .dataframe thead th {\n",
       "        text-align: right;\n",
       "    }\n",
       "</style>\n",
       "<table border=\"1\" class=\"dataframe\">\n",
       "  <thead>\n",
       "    <tr style=\"text-align: right;\">\n",
       "      <th></th>\n",
       "      <th>username</th>\n",
       "      <th>komentar</th>\n",
       "    </tr>\n",
       "  </thead>\n",
       "  <tbody>\n",
       "    <tr>\n",
       "      <th>0</th>\n",
       "      <td>kompascom</td>\n",
       "      <td>KOREKSI: Dalam infografis tertulis “Periode su...</td>\n",
       "    </tr>\n",
       "    <tr>\n",
       "      <th>1</th>\n",
       "      <td>noto.aries.3</td>\n",
       "      <td>Pdip dukung anies aja, agar bisa menang jadi s...</td>\n",
       "    </tr>\n",
       "  </tbody>\n",
       "</table>\n",
       "</div>"
      ],
      "text/plain": [
       "       username                                           komentar\n",
       "0     kompascom  KOREKSI: Dalam infografis tertulis “Periode su...\n",
       "1  noto.aries.3  Pdip dukung anies aja, agar bisa menang jadi s..."
      ]
     },
     "execution_count": 26,
     "metadata": {},
     "output_type": "execute_result"
    }
   ],
   "source": [
    "df.head(2)"
   ]
  },
  {
   "cell_type": "code",
   "execution_count": 27,
   "metadata": {},
   "outputs": [
    {
     "name": "stdout",
     "output_type": "stream",
     "text": [
      "total baris 412\n",
      "total kolom 2\n"
     ]
    }
   ],
   "source": [
    "print('total baris', df.shape[0])\n",
    "print('total kolom', df.shape[1])"
   ]
  },
  {
   "cell_type": "code",
   "execution_count": 28,
   "metadata": {},
   "outputs": [
    {
     "data": {
      "text/plain": [
       "username    0\n",
       "komentar    2\n",
       "dtype: int64"
      ]
     },
     "execution_count": 28,
     "metadata": {},
     "output_type": "execute_result"
    }
   ],
   "source": [
    "# Cek missing value\n",
    "\n",
    "df.isna().sum()"
   ]
  },
  {
   "cell_type": "code",
   "execution_count": 29,
   "metadata": {},
   "outputs": [
    {
     "data": {
      "text/plain": [
       "2"
      ]
     },
     "execution_count": 29,
     "metadata": {},
     "output_type": "execute_result"
    }
   ],
   "source": [
    "# Cek duplikasi\n",
    "\n",
    "df.duplicated().sum()"
   ]
  },
  {
   "cell_type": "code",
   "execution_count": 30,
   "metadata": {},
   "outputs": [],
   "source": [
    "df_clean = df.copy()"
   ]
  },
  {
   "cell_type": "code",
   "execution_count": 31,
   "metadata": {},
   "outputs": [
    {
     "data": {
      "text/plain": [
       "username    0\n",
       "komentar    0\n",
       "dtype: int64"
      ]
     },
     "execution_count": 31,
     "metadata": {},
     "output_type": "execute_result"
    }
   ],
   "source": [
    "# Menghandle Missing Value\n",
    "\n",
    "df_clean = df_clean.dropna()\n",
    "df_clean.isna().sum()"
   ]
  },
  {
   "cell_type": "code",
   "execution_count": 32,
   "metadata": {},
   "outputs": [
    {
     "data": {
      "text/plain": [
       "0"
      ]
     },
     "execution_count": 32,
     "metadata": {},
     "output_type": "execute_result"
    }
   ],
   "source": [
    "# Menghandle Duplikasi\n",
    "\n",
    "df_clean = df_clean.drop_duplicates()\n",
    "df_clean.duplicated().sum()"
   ]
  },
  {
   "cell_type": "code",
   "execution_count": 33,
   "metadata": {},
   "outputs": [],
   "source": [
    "# Fungsi untuk membersihkan data\n",
    "\n",
    "def remove_emoji(text):\n",
    "    if isinstance(text, str):\n",
    "        return emoji.replace_emoji(text, replace='')\n",
    "    else:\n",
    "        return text\n",
    "\n",
    "def clean_text(text):\n",
    "    text = remove_emoji(text)\n",
    "    if isinstance(text, str):\n",
    "        text = text.lower()\n",
    "        text = re.sub(r'@\\w+|#\\w+|http\\S+', '', text)\n",
    "        text = re.sub(r'[^a-z\\s]', '', text)\n",
    "        text = re.sub(r'\\s+', ' ', text).strip()\n",
    "    return text\n"
   ]
  },
  {
   "cell_type": "code",
   "execution_count": 34,
   "metadata": {},
   "outputs": [],
   "source": [
    "df_clean['clean_comment'] = df_clean['komentar'].apply(clean_text)"
   ]
  },
  {
   "cell_type": "code",
   "execution_count": 35,
   "metadata": {},
   "outputs": [
    {
     "data": {
      "text/html": [
       "<div>\n",
       "<style scoped>\n",
       "    .dataframe tbody tr th:only-of-type {\n",
       "        vertical-align: middle;\n",
       "    }\n",
       "\n",
       "    .dataframe tbody tr th {\n",
       "        vertical-align: top;\n",
       "    }\n",
       "\n",
       "    .dataframe thead th {\n",
       "        text-align: right;\n",
       "    }\n",
       "</style>\n",
       "<table border=\"1\" class=\"dataframe\">\n",
       "  <thead>\n",
       "    <tr style=\"text-align: right;\">\n",
       "      <th></th>\n",
       "      <th>username</th>\n",
       "      <th>komentar</th>\n",
       "      <th>clean_comment</th>\n",
       "    </tr>\n",
       "  </thead>\n",
       "  <tbody>\n",
       "    <tr>\n",
       "      <th>0</th>\n",
       "      <td>kompascom</td>\n",
       "      <td>KOREKSI: Dalam infografis tertulis “Periode su...</td>\n",
       "      <td>koreksi dalam infografis tertulis periode surv...</td>\n",
       "    </tr>\n",
       "    <tr>\n",
       "      <th>1</th>\n",
       "      <td>noto.aries.3</td>\n",
       "      <td>Pdip dukung anies aja, agar bisa menang jadi s...</td>\n",
       "      <td>pdip dukung anies aja agar bisa menang jadi sa...</td>\n",
       "    </tr>\n",
       "  </tbody>\n",
       "</table>\n",
       "</div>"
      ],
      "text/plain": [
       "       username                                           komentar  \\\n",
       "0     kompascom  KOREKSI: Dalam infografis tertulis “Periode su...   \n",
       "1  noto.aries.3  Pdip dukung anies aja, agar bisa menang jadi s...   \n",
       "\n",
       "                                       clean_comment  \n",
       "0  koreksi dalam infografis tertulis periode surv...  \n",
       "1  pdip dukung anies aja agar bisa menang jadi sa...  "
      ]
     },
     "execution_count": 35,
     "metadata": {},
     "output_type": "execute_result"
    }
   ],
   "source": [
    "df_clean.head(2)"
   ]
  },
  {
   "cell_type": "code",
   "execution_count": 36,
   "metadata": {},
   "outputs": [],
   "source": [
    "# Menghapus stopwords\n",
    "\n",
    "stop_words = set(stopwords.words('indonesian'))\n",
    "df_clean['clean_comment'] = df_clean['clean_comment'].apply(\n",
    "    lambda x: ' '.join([\n",
    "        word for word in word_tokenize(x) if word not in stop_words\n",
    "        ]) \n",
    "        if isinstance(x, str) else x\n",
    ")"
   ]
  },
  {
   "cell_type": "code",
   "execution_count": 37,
   "metadata": {},
   "outputs": [],
   "source": [
    "# Membuat Stemmer\n",
    "\n",
    "factory = StemmerFactory()\n",
    "stemmer = factory.create_stemmer()\n",
    "\n",
    "df_clean['stem_comment'] = df_clean['clean_comment'].apply(\n",
    "    lambda x: stemmer.stem(x) if isinstance(x, str) else ''\n",
    ")"
   ]
  },
  {
   "cell_type": "code",
   "execution_count": 38,
   "metadata": {},
   "outputs": [],
   "source": [
    "# Membuat Tokenisasi\n",
    "\n",
    "df_clean['tokens'] = df_clean['stem_comment'].apply(\n",
    "    lambda x: word_tokenize(x) if isinstance(x, str) else []\n",
    ")"
   ]
  },
  {
   "cell_type": "code",
   "execution_count": 46,
   "metadata": {},
   "outputs": [],
   "source": [
    "# Membuat Label\n",
    "\n",
    "def get_sentiment(text):\n",
    "\n",
    "    sentiment = TextBlob(text).sentiment\n",
    "\n",
    "    if sentiment.polarity > 0.1:\n",
    "        return 'positif'\n",
    "    elif sentiment.polarity < -0.1:\n",
    "        return 'negatif'\n",
    "    else:\n",
    "        return 'netral'\n",
    "\n",
    "df_clean['label'] = df_clean['clean_comment'].apply(get_sentiment)"
   ]
  },
  {
   "cell_type": "code",
   "execution_count": 40,
   "metadata": {},
   "outputs": [
    {
     "data": {
      "text/plain": [
       "label\n",
       "netral     397\n",
       "positif      7\n",
       "negatif      4\n",
       "Name: count, dtype: int64"
      ]
     },
     "execution_count": 40,
     "metadata": {},
     "output_type": "execute_result"
    }
   ],
   "source": [
    "df_clean['label'].value_counts()"
   ]
  },
  {
   "cell_type": "code",
   "execution_count": 51,
   "metadata": {},
   "outputs": [
    {
     "data": {
      "image/png": "[encoded data removed]",
      "text/plain": [
       "<Figure size 600x600 with 1 Axes>"
      ]
     },
     "metadata": {},
     "output_type": "display_data"
    }
   ],
   "source": [
    "def plot_pie(data):\n",
    "\n",
    "    pie_data = data.value_counts()\n",
    "    color_map = {\"positif\": \"#43AD65\", \"netral\": \"#F79647\", \"negatif\": \"#B21E58\"}\n",
    "    \n",
    "    # Buat label\n",
    "    labels = [\n",
    "        (\n",
    "            f\"{str(pie_data.index[i]).title()}\\n{pie_data.values[i]}\"\n",
    "            + f\" ({round(pie_data.values[i] / sum(pie_data.values) * 100, 2)}%)\"\n",
    "        )\n",
    "        for i in range(len(pie_data.values))\n",
    "    ]\n",
    "\n",
    "    # Plot pie chart\n",
    "    plt.figure(figsize=(6, 6))\n",
    "    plt.pie(\n",
    "        pie_data.values,\n",
    "        labels=labels,\n",
    "        colors=[color_map.get(str(x).lower(), \"#cccccc\") for x in pie_data.index],\n",
    "        wedgeprops={\"width\": 0.3},\n",
    "        startangle=90\n",
    "    )\n",
    "\n",
    "    # Informasi total\n",
    "    plt.title(\"Sentiment Distribution\", fontsize=12)\n",
    "    plt.text(0, 0.05, sum(pie_data.values), ha=\"center\", va=\"center\", fontsize=32)\n",
    "    plt.text(0, -0.15, \"Total Tweets\", ha=\"center\", va=\"center\", fontsize=18)\n",
    "    plt.show()\n",
    "\n",
    "plot_pie(df_clean[\"label\"])"
   ]
  },
  {
   "cell_type": "code",
   "execution_count": 49,
   "metadata": {},
   "outputs": [
    {
     "data": {
      "text/html": [
       "<div>\n",
       "<style scoped>\n",
       "    .dataframe tbody tr th:only-of-type {\n",
       "        vertical-align: middle;\n",
       "    }\n",
       "\n",
       "    .dataframe tbody tr th {\n",
       "        vertical-align: top;\n",
       "    }\n",
       "\n",
       "    .dataframe thead th {\n",
       "        text-align: right;\n",
       "    }\n",
       "</style>\n",
       "<table border=\"1\" class=\"dataframe\">\n",
       "  <thead>\n",
       "    <tr style=\"text-align: right;\">\n",
       "      <th></th>\n",
       "      <th>username</th>\n",
       "      <th>komentar</th>\n",
       "      <th>clean_comment</th>\n",
       "      <th>stem_comment</th>\n",
       "      <th>tokens</th>\n",
       "      <th>label</th>\n",
       "    </tr>\n",
       "  </thead>\n",
       "  <tbody>\n",
       "    <tr>\n",
       "      <th>236</th>\n",
       "      <td>aigoo_watashi</td>\n",
       "      <td>Berkat ketidakbecusan Heru sekaligus terlalu m...</td>\n",
       "      <td>berkat ketidakbecusan heru manut jokowi warga ...</td>\n",
       "      <td>berkat ketidakbecusan heru manut jokowi warga ...</td>\n",
       "      <td>[berkat, ketidakbecusan, heru, manut, jokowi, ...</td>\n",
       "      <td>netral</td>\n",
       "    </tr>\n",
       "    <tr>\n",
       "      <th>127</th>\n",
       "      <td>krriiss28</td>\n",
       "      <td>Dalam darah anies baswedan mengalir darah p.de...</td>\n",
       "      <td>darah anies baswedan mengalir darah pdemokrasi...</td>\n",
       "      <td>darah anies baswedan alir darah pdemokrasi ind...</td>\n",
       "      <td>[darah, anies, baswedan, alir, darah, pdemokra...</td>\n",
       "      <td>netral</td>\n",
       "    </tr>\n",
       "    <tr>\n",
       "      <th>233</th>\n",
       "      <td>murdiono_ali</td>\n",
       "      <td>Kasihan deh pribumi Betawi cuma jadi penonton ...</td>\n",
       "      <td>kasihan deh pribumi betawi penonton terpinggirkan</td>\n",
       "      <td>kasihan deh pribumi betawi tonton pinggir</td>\n",
       "      <td>[kasihan, deh, pribumi, betawi, tonton, pinggir]</td>\n",
       "      <td>netral</td>\n",
       "    </tr>\n",
       "    <tr>\n",
       "      <th>364</th>\n",
       "      <td>krisnapdwa</td>\n",
       "      <td>masih ada yang milih heru 😹</td>\n",
       "      <td>milih heru</td>\n",
       "      <td>milih heru</td>\n",
       "      <td>[milih, heru]</td>\n",
       "      <td>netral</td>\n",
       "    </tr>\n",
       "    <tr>\n",
       "      <th>77</th>\n",
       "      <td>tyastyas91</td>\n",
       "      <td>Biasane kalo berita ginian RT 58 baru pada kel...</td>\n",
       "      <td>biasane kalo berita ginian rt</td>\n",
       "      <td>biasane kalo berita ginian rt</td>\n",
       "      <td>[biasane, kalo, berita, ginian, rt]</td>\n",
       "      <td>netral</td>\n",
       "    </tr>\n",
       "    <tr>\n",
       "      <th>103</th>\n",
       "      <td>guchateu</td>\n",
       "      <td>Cukup tau aja😂</td>\n",
       "      <td>tau aja</td>\n",
       "      <td>tau aja</td>\n",
       "      <td>[tau, aja]</td>\n",
       "      <td>netral</td>\n",
       "    </tr>\n",
       "    <tr>\n",
       "      <th>373</th>\n",
       "      <td>azwarwirman</td>\n",
       "      <td>Lah itu tukang pisang kok cuma 1%....</td>\n",
       "      <td>tukang pisang</td>\n",
       "      <td>tukang pisang</td>\n",
       "      <td>[tukang, pisang]</td>\n",
       "      <td>netral</td>\n",
       "    </tr>\n",
       "    <tr>\n",
       "      <th>21</th>\n",
       "      <td>rakha_ruslan</td>\n",
       "      <td>Anies🔥🔥🔥</td>\n",
       "      <td>anies</td>\n",
       "      <td>anies</td>\n",
       "      <td>[anies]</td>\n",
       "      <td>netral</td>\n",
       "    </tr>\n",
       "    <tr>\n",
       "      <th>264</th>\n",
       "      <td>handayaniwoke</td>\n",
       "      <td>Ahokkkk</td>\n",
       "      <td>ahokkkk</td>\n",
       "      <td>ahokkkk</td>\n",
       "      <td>[ahokkkk]</td>\n",
       "      <td>netral</td>\n",
       "    </tr>\n",
       "    <tr>\n",
       "      <th>39</th>\n",
       "      <td>gracestedita</td>\n",
       "      <td>ahok sih</td>\n",
       "      <td>ahok sih</td>\n",
       "      <td>ahok sih</td>\n",
       "      <td>[ahok, sih]</td>\n",
       "      <td>netral</td>\n",
       "    </tr>\n",
       "  </tbody>\n",
       "</table>\n",
       "</div>"
      ],
      "text/plain": [
       "          username                                           komentar  \\\n",
       "236  aigoo_watashi  Berkat ketidakbecusan Heru sekaligus terlalu m...   \n",
       "127      krriiss28  Dalam darah anies baswedan mengalir darah p.de...   \n",
       "233   murdiono_ali  Kasihan deh pribumi Betawi cuma jadi penonton ...   \n",
       "364     krisnapdwa                        masih ada yang milih heru 😹   \n",
       "77      tyastyas91  Biasane kalo berita ginian RT 58 baru pada kel...   \n",
       "103       guchateu                                     Cukup tau aja😂   \n",
       "373    azwarwirman              Lah itu tukang pisang kok cuma 1%....   \n",
       "21    rakha_ruslan                                           Anies🔥🔥🔥   \n",
       "264  handayaniwoke                                            Ahokkkk   \n",
       "39    gracestedita                                           ahok sih   \n",
       "\n",
       "                                         clean_comment  \\\n",
       "236  berkat ketidakbecusan heru manut jokowi warga ...   \n",
       "127  darah anies baswedan mengalir darah pdemokrasi...   \n",
       "233  kasihan deh pribumi betawi penonton terpinggirkan   \n",
       "364                                         milih heru   \n",
       "77                       biasane kalo berita ginian rt   \n",
       "103                                            tau aja   \n",
       "373                                      tukang pisang   \n",
       "21                                               anies   \n",
       "264                                            ahokkkk   \n",
       "39                                            ahok sih   \n",
       "\n",
       "                                          stem_comment  \\\n",
       "236  berkat ketidakbecusan heru manut jokowi warga ...   \n",
       "127  darah anies baswedan alir darah pdemokrasi ind...   \n",
       "233          kasihan deh pribumi betawi tonton pinggir   \n",
       "364                                         milih heru   \n",
       "77                       biasane kalo berita ginian rt   \n",
       "103                                            tau aja   \n",
       "373                                      tukang pisang   \n",
       "21                                               anies   \n",
       "264                                            ahokkkk   \n",
       "39                                            ahok sih   \n",
       "\n",
       "                                                tokens   label  \n",
       "236  [berkat, ketidakbecusan, heru, manut, jokowi, ...  netral  \n",
       "127  [darah, anies, baswedan, alir, darah, pdemokra...  netral  \n",
       "233   [kasihan, deh, pribumi, betawi, tonton, pinggir]  netral  \n",
       "364                                      [milih, heru]  netral  \n",
       "77                 [biasane, kalo, berita, ginian, rt]  netral  \n",
       "103                                         [tau, aja]  netral  \n",
       "373                                   [tukang, pisang]  netral  \n",
       "21                                             [anies]  netral  \n",
       "264                                          [ahokkkk]  netral  \n",
       "39                                         [ahok, sih]  netral  "
      ]
     },
     "execution_count": 49,
     "metadata": {},
     "output_type": "execute_result"
    }
   ],
   "source": [
    "df_clean.sample(10)"
   ]
  },
  {
   "cell_type": "markdown",
   "metadata": {},
   "source": [
    "### Save dataset|"
   ]
  },
  {
   "cell_type": "code",
   "execution_count": null,
   "metadata": {},
   "outputs": [],
   "source": [
    "# Simpan file\n",
    "\n",
    "df_clean.to_csv('./data_clean.csv', index=False) # data yang sudah bersih            "
   ]
  },
  {
   "cell_type": "code",
   "execution_count": null,
   "metadata": {},
   "outputs": [],
   "source": []
  }
 ],
 "metadata": {
  "kernelspec": {
   "display_name": "base",
   "language": "python",
   "name": "python3"
  },
  "language_info": {
   "codemirror_mode": {
    "name": "ipython",
    "version": 3
   },
   "file_extension": ".py",
   "mimetype": "text/x-python",
   "name": "python",
   "nbconvert_exporter": "python",
   "pygments_lexer": "ipython3",
   "version": "3.11.4"
  },
  "orig_nbformat": 4
 },
 "nbformat": 4,
 "nbformat_minor": 2
}
