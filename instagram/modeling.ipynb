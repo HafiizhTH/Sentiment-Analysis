{
 "cells": [
  {
   "cell_type": "code",
   "execution_count": 106,
   "metadata": {},
   "outputs": [],
   "source": [
    "import pandas as pd \n",
    "import numpy as np\n",
    "import matplotlib.pyplot as plt\n",
    "import seaborn as sns\n",
    "\n",
    "from sklearn.model_selection import train_test_split\n",
    "from sklearn.feature_extraction.text import TfidfVectorizer\n",
    "from sklearn.naive_bayes import MultinomialNB\n",
    "from sklearn.svm import SVC\n",
    "from sklearn.metrics import accuracy_score, precision_score, recall_score, f1_score\n",
    "from sklearn.metrics import classification_report, confusion_matrix\n",
    "\n",
    "import warnings\n",
    "warnings.filterwarnings('ignore')"
   ]
  },
  {
   "cell_type": "code",
   "execution_count": 17,
   "metadata": {},
   "outputs": [],
   "source": [
    "df = pd.read_csv(r'./data_clean.csv')"
   ]
  },
  {
   "cell_type": "code",
   "execution_count": 18,
   "metadata": {},
   "outputs": [
    {
     "data": {
      "text/html": [
       "<div>\n",
       "<style scoped>\n",
       "    .dataframe tbody tr th:only-of-type {\n",
       "        vertical-align: middle;\n",
       "    }\n",
       "\n",
       "    .dataframe tbody tr th {\n",
       "        vertical-align: top;\n",
       "    }\n",
       "\n",
       "    .dataframe thead th {\n",
       "        text-align: right;\n",
       "    }\n",
       "</style>\n",
       "<table border=\"1\" class=\"dataframe\">\n",
       "  <thead>\n",
       "    <tr style=\"text-align: right;\">\n",
       "      <th></th>\n",
       "      <th>username</th>\n",
       "      <th>komentar</th>\n",
       "      <th>clean_comment</th>\n",
       "      <th>stem_comment</th>\n",
       "      <th>tokens</th>\n",
       "      <th>label</th>\n",
       "    </tr>\n",
       "  </thead>\n",
       "  <tbody>\n",
       "    <tr>\n",
       "      <th>0</th>\n",
       "      <td>kompascom</td>\n",
       "      <td>KOREKSI: Dalam infografis tertulis “Periode su...</td>\n",
       "      <td>koreksi infografis tertulis periode survei jul...</td>\n",
       "      <td>koreksi infografis tulis periode survei juli p...</td>\n",
       "      <td>['koreksi', 'infografis', 'tulis', 'periode', ...</td>\n",
       "      <td>netral</td>\n",
       "    </tr>\n",
       "    <tr>\n",
       "      <th>1</th>\n",
       "      <td>noto.aries.3</td>\n",
       "      <td>Pdip dukung anies aja, agar bisa menang jadi s...</td>\n",
       "      <td>pdip dukung anies aja menang sakit hati pilpre...</td>\n",
       "      <td>pdip dukung anies aja menang sakit hati pilpre...</td>\n",
       "      <td>['pdip', 'dukung', 'anies', 'aja', 'menang', '...</td>\n",
       "      <td>netral</td>\n",
       "    </tr>\n",
       "  </tbody>\n",
       "</table>\n",
       "</div>"
      ],
      "text/plain": [
       "       username                                           komentar  \\\n",
       "0     kompascom  KOREKSI: Dalam infografis tertulis “Periode su...   \n",
       "1  noto.aries.3  Pdip dukung anies aja, agar bisa menang jadi s...   \n",
       "\n",
       "                                       clean_comment  \\\n",
       "0  koreksi infografis tertulis periode survei jul...   \n",
       "1  pdip dukung anies aja menang sakit hati pilpre...   \n",
       "\n",
       "                                        stem_comment  \\\n",
       "0  koreksi infografis tulis periode survei juli p...   \n",
       "1  pdip dukung anies aja menang sakit hati pilpre...   \n",
       "\n",
       "                                              tokens   label  \n",
       "0  ['koreksi', 'infografis', 'tulis', 'periode', ...  netral  \n",
       "1  ['pdip', 'dukung', 'anies', 'aja', 'menang', '...  netral  "
      ]
     },
     "execution_count": 18,
     "metadata": {},
     "output_type": "execute_result"
    }
   ],
   "source": [
    "df.head(2)"
   ]
  },
  {
   "cell_type": "code",
   "execution_count": 78,
   "metadata": {},
   "outputs": [
    {
     "name": "stdout",
     "output_type": "stream",
     "text": [
      "Training: 326\n",
      "Testing: 82\n"
     ]
    }
   ],
   "source": [
    "# Train test split\n",
    "\n",
    "X = df['clean_comment']\n",
    "y = df['label']\n",
    "\n",
    "X_train, X_test, y_train, y_test = train_test_split(X, y, test_size=0.2, random_state=42)\n",
    "\n",
    "print(\"Training:\", len(X_train))\n",
    "print(\"Testing:\", len(X_test))"
   ]
  },
  {
   "cell_type": "code",
   "execution_count": 79,
   "metadata": {},
   "outputs": [],
   "source": [
    "# Menggunakan TF-IDF untuk vectorisasi teks\n",
    "\n",
    "vectorizer = TfidfVectorizer(max_features=1000)\n",
    "X_train = vectorizer.fit_transform(X_train)\n",
    "X_test = vectorizer.transform(X_test)"
   ]
  },
  {
   "cell_type": "code",
   "execution_count": 80,
   "metadata": {},
   "outputs": [
    {
     "name": "stdout",
     "output_type": "stream",
     "text": [
      "  (0, 112)\t0.3486\n",
      "  (0, 124)\t0.3735\n",
      "  (0, 283)\t0.2461\n",
      "  (0, 378)\t0.3735\n",
      "  (0, 636)\t0.3735\n",
      "  (0, 732)\t0.2967\n",
      "  (0, 775)\t0.3735\n",
      "  (0, 777)\t0.3735\n",
      "  (0, 838)\t0.1801\n",
      "  (1, 14)\t0.4307\n",
      "  (1, 766)\t0.9025\n",
      "  (2, 1)\t0.4943\n",
      "  (2, 42)\t0.3154\n",
      "  (2, 630)\t0.5374\n",
      "  (2, 766)\t0.6061\n",
      "  (3, 42)\t0.2937\n",
      "  (3, 349)\t0.6202\n",
      "  (3, 578)\t0.5279\n",
      "  (3, 630)\t0.5005\n",
      "  (4, 14)\t0.2108\n",
      "  (4, 22)\t0.2688\n",
      "  (4, 109)\t0.5199\n",
      "  (4, 166)\t0.3916\n",
      "  (4, 441)\t0.4017\n",
      "  (4, 513)\t0.4853\n",
      "  :\t:\n",
      "  (321, 509)\t0.4952\n",
      "  (322, 22)\t0.2404\n",
      "  (322, 66)\t0.4649\n",
      "  (322, 77)\t0.434\n",
      "  (322, 317)\t0.3502\n",
      "  (322, 635)\t0.3811\n",
      "  (322, 714)\t0.3165\n",
      "  (322, 790)\t0.412\n",
      "  (323, 14)\t0.13\n",
      "  (323, 46)\t0.2022\n",
      "  (323, 91)\t0.6413\n",
      "  (323, 210)\t0.2842\n",
      "  (323, 221)\t0.2724\n",
      "  (323, 545)\t0.3206\n",
      "  (323, 550)\t0.2993\n",
      "  (323, 595)\t0.2842\n",
      "  (323, 738)\t0.3206\n",
      "  (324, 14)\t0.3925\n",
      "  (324, 42)\t0.214\n",
      "  (324, 318)\t0.4289\n",
      "  (324, 400)\t0.4839\n",
      "  (324, 583)\t0.4839\n",
      "  (324, 811)\t0.3845\n",
      "  (325, 22)\t0.5198\n",
      "  (325, 747)\t0.8543\n"
     ]
    }
   ],
   "source": [
    "print(round(X_train, 4))"
   ]
  },
  {
   "cell_type": "code",
   "execution_count": 81,
   "metadata": {},
   "outputs": [],
   "source": [
    "# Mapping dan Normalisasi data labels\n",
    "\n",
    "df_mapping = {\n",
    "    'positif':0,\n",
    "    'negatif':1,\n",
    "    'netral':2\n",
    "}\n",
    "\n",
    "y_train = y_train.map(df_mapping)\n",
    "y_test = y_test.map(df_mapping)"
   ]
  },
  {
   "cell_type": "code",
   "execution_count": 87,
   "metadata": {},
   "outputs": [
    {
     "data": {
      "text/plain": [
       "label\n",
       "2    316\n",
       "0      7\n",
       "1      3\n",
       "Name: count, dtype: int64"
      ]
     },
     "execution_count": 87,
     "metadata": {},
     "output_type": "execute_result"
    }
   ],
   "source": [
    "y_train.value_counts()"
   ]
  },
  {
   "cell_type": "code",
   "execution_count": 97,
   "metadata": {},
   "outputs": [],
   "source": [
    "# Selection models\n",
    "\n",
    "models = {\n",
    "    \"Naive Bayes\": MultinomialNB(),\n",
    "    \"SVM\": SVC()\n",
    "}\n",
    "\n",
    "accuracy, precision, recall, f1 = {}, {}, {}, {}\n",
    "\n",
    "for key in models.keys():\n",
    "    # Melakukan train setiap model\n",
    "    models[key].fit(X_train, y_train)\n",
    "\n",
    "    # Melakukan prediksi model\n",
    "    predict = models[key].predict(X_test)\n",
    "\n",
    "    # Menghitung metrik Accuracy, Precision, Recall, F1 Score\n",
    "    accuracy[key] = accuracy_score(predict, y_test)\n",
    "    precision[key] = precision_score(predict, y_test)\n",
    "    recall[key] = recall_score(predict, y_test)\n",
    "    f1[key] = f1_score(predict, y_test)\n"
   ]
  },
  {
   "cell_type": "code",
   "execution_count": 98,
   "metadata": {},
   "outputs": [
    {
     "data": {
      "text/html": [
       "<div>\n",
       "<style scoped>\n",
       "    .dataframe tbody tr th:only-of-type {\n",
       "        vertical-align: middle;\n",
       "    }\n",
       "\n",
       "    .dataframe tbody tr th {\n",
       "        vertical-align: top;\n",
       "    }\n",
       "\n",
       "    .dataframe thead th {\n",
       "        text-align: right;\n",
       "    }\n",
       "</style>\n",
       "<table border=\"1\" class=\"dataframe\">\n",
       "  <thead>\n",
       "    <tr style=\"text-align: right;\">\n",
       "      <th></th>\n",
       "      <th>Accuracy</th>\n",
       "      <th>Precision</th>\n",
       "      <th>Recall</th>\n",
       "      <th>F1-Score</th>\n",
       "    </tr>\n",
       "  </thead>\n",
       "  <tbody>\n",
       "    <tr>\n",
       "      <th>Naive Bayes</th>\n",
       "      <td>0.99</td>\n",
       "      <td>0.0</td>\n",
       "      <td>0.0</td>\n",
       "      <td>0.0</td>\n",
       "    </tr>\n",
       "    <tr>\n",
       "      <th>SVM</th>\n",
       "      <td>0.99</td>\n",
       "      <td>0.0</td>\n",
       "      <td>0.0</td>\n",
       "      <td>0.0</td>\n",
       "    </tr>\n",
       "  </tbody>\n",
       "</table>\n",
       "</div>"
      ],
      "text/plain": [
       "             Accuracy  Precision  Recall  F1-Score\n",
       "Naive Bayes      0.99        0.0     0.0       0.0\n",
       "SVM              0.99        0.0     0.0       0.0"
      ]
     },
     "execution_count": 98,
     "metadata": {},
     "output_type": "execute_result"
    }
   ],
   "source": [
    "# Menampilkan metriks dari setiap model\n",
    "\n",
    "df_model = pd.DataFrame(index=models.keys(), columns=['Accuracy', 'Precision', 'Recall', 'F1-Score'])\n",
    "df_model['Accuracy'] = accuracy.values()\n",
    "df_model['Precision'] = precision.values()\n",
    "df_model['Recall'] = recall.values()\n",
    "df_model['F1-Score'] = f1.values()\n",
    "\n",
    "round(df_model, 2)"
   ]
  },
  {
   "cell_type": "code",
   "execution_count": 105,
   "metadata": {},
   "outputs": [
    {
     "name": "stdout",
     "output_type": "stream",
     "text": [
      "Akurasi: 0.9878\n",
      "Laporan Klasifikasi:\n",
      "               precision    recall  f1-score   support\n",
      "\n",
      "     Positif       0.00      0.00      0.00         0\n",
      "     Negatif       0.00      0.00      0.00         1\n",
      "      Netral       0.99      1.00      0.99        81\n",
      "\n",
      "   micro avg       0.99      0.99      0.99        82\n",
      "   macro avg       0.33      0.33      0.33        82\n",
      "weighted avg       0.98      0.99      0.98        82\n",
      "\n"
     ]
    }
   ],
   "source": [
    "# Evaluasi model\n",
    "\n",
    "y_pred = models['Naive Bayes'].predict(X_test)\n",
    "\n",
    "print(\"Akurasi:\", accuracy_score(y_test, y_pred).round(5))\n",
    "print(\"Laporan Klasifikasi:\\n\", classification_report(y_test, y_pred, labels=[0, 1, 2], target_names=['Positif', 'Negatif', 'Netral']))"
   ]
  },
  {
   "cell_type": "code",
   "execution_count": 93,
   "metadata": {},
   "outputs": [
    {
     "data": {
      "image/png": "[encoded data removed]",
      "text/plain": [
       "<Figure size 300x300 with 2 Axes>"
      ]
     },
     "metadata": {},
     "output_type": "display_data"
    }
   ],
   "source": [
    "# Confussion Matrix\n",
    "\n",
    "matrix_rf = confusion_matrix(y_test, y_pred)\n",
    "\n",
    "plt.figure(figsize=(3, 3))\n",
    "sns.heatmap(matrix_rf, annot = True, fmt='d', cmap=\"Blues\")\n",
    "plt.title('Confussion Matrix')\n",
    "plt.xlabel('Predicted')\n",
    "plt.ylabel('Actual')\n",
    "plt.show()"
   ]
  },
  {
   "cell_type": "code",
   "execution_count": null,
   "metadata": {},
   "outputs": [],
   "source": []
  }
 ],
 "metadata": {
  "kernelspec": {
   "display_name": "base",
   "language": "python",
   "name": "python3"
  },
  "language_info": {
   "codemirror_mode": {
    "name": "ipython",
    "version": 3
   },
   "file_extension": ".py",
   "mimetype": "text/x-python",
   "name": "python",
   "nbconvert_exporter": "python",
   "pygments_lexer": "ipython3",
   "version": "3.11.4"
  },
  "orig_nbformat": 4
 },
 "nbformat": 4,
 "nbformat_minor": 2
}
