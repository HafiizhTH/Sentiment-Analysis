{
 "cells": [
  {
   "cell_type": "code",
   "execution_count": 1,
   "metadata": {},
   "outputs": [],
   "source": [
    "import pandas as pd \n",
    "import numpy as np \n",
    "import matplotlib.pyplot as plt \n",
    "import seaborn as sns \n",
    "\n",
    "import re\n",
    "import emoji\n",
    "import swifter\n",
    "import nltk\n",
    "from nltk.corpus import stopwords\n",
    "from nltk.tokenize import word_tokenize\n",
    "from Sastrawi.Stemmer.StemmerFactory import StemmerFactory\n",
    "from deep_translator import GoogleTranslator\n",
    "from textblob import TextBlob\n",
    "\n",
    "import warnings\n",
    "warnings.filterwarnings('ignore')"
   ]
  },
  {
   "cell_type": "code",
   "execution_count": 2,
   "metadata": {},
   "outputs": [],
   "source": [
    "# nltk.download('stopwords')\n",
    "# nltk.download('punkt')"
   ]
  },
  {
   "cell_type": "markdown",
   "metadata": {},
   "source": [
    "### Preprocessing"
   ]
  },
  {
   "cell_type": "code",
   "execution_count": 3,
   "metadata": {},
   "outputs": [],
   "source": [
    "df = pd.read_csv(r'./data/youtube_comments.csv')"
   ]
  },
  {
   "cell_type": "code",
   "execution_count": 4,
   "metadata": {},
   "outputs": [
    {
     "data": {
      "text/html": [
       "<div>\n",
       "<style scoped>\n",
       "    .dataframe tbody tr th:only-of-type {\n",
       "        vertical-align: middle;\n",
       "    }\n",
       "\n",
       "    .dataframe tbody tr th {\n",
       "        vertical-align: top;\n",
       "    }\n",
       "\n",
       "    .dataframe thead th {\n",
       "        text-align: right;\n",
       "    }\n",
       "</style>\n",
       "<table border=\"1\" class=\"dataframe\">\n",
       "  <thead>\n",
       "    <tr style=\"text-align: right;\">\n",
       "      <th></th>\n",
       "      <th>Author</th>\n",
       "      <th>Comment</th>\n",
       "      <th>Published</th>\n",
       "    </tr>\n",
       "  </thead>\n",
       "  <tbody>\n",
       "    <tr>\n",
       "      <th>0</th>\n",
       "      <td>@ulfianaini</td>\n",
       "      <td>Zonasi gak berlaku di sekolah negeri favorit, ...</td>\n",
       "      <td>2024-12-16T04:12:04Z</td>\n",
       "    </tr>\n",
       "    <tr>\n",
       "      <th>1</th>\n",
       "      <td>@somecomfort</td>\n",
       "      <td>test mtk, 7x8 berapa? jangan kelamaan mikirnya...</td>\n",
       "      <td>2024-12-15T08:06:03Z</td>\n",
       "    </tr>\n",
       "  </tbody>\n",
       "</table>\n",
       "</div>"
      ],
      "text/plain": [
       "         Author                                            Comment  \\\n",
       "0   @ulfianaini  Zonasi gak berlaku di sekolah negeri favorit, ...   \n",
       "1  @somecomfort  test mtk, 7x8 berapa? jangan kelamaan mikirnya...   \n",
       "\n",
       "              Published  \n",
       "0  2024-12-16T04:12:04Z  \n",
       "1  2024-12-15T08:06:03Z  "
      ]
     },
     "execution_count": 4,
     "metadata": {},
     "output_type": "execute_result"
    }
   ],
   "source": [
    "df.head(2)"
   ]
  },
  {
   "cell_type": "code",
   "execution_count": 5,
   "metadata": {},
   "outputs": [
    {
     "name": "stdout",
     "output_type": "stream",
     "text": [
      "total baris 10099\n",
      "total kolom 3\n"
     ]
    }
   ],
   "source": [
    "print('total baris', df.shape[0])\n",
    "print('total kolom', df.shape[1])"
   ]
  },
  {
   "cell_type": "code",
   "execution_count": 6,
   "metadata": {},
   "outputs": [
    {
     "data": {
      "text/plain": [
       "Author       3\n",
       "Comment      0\n",
       "Published    0\n",
       "dtype: int64"
      ]
     },
     "execution_count": 6,
     "metadata": {},
     "output_type": "execute_result"
    }
   ],
   "source": [
    "# Cek missing value\n",
    "\n",
    "df.isna().sum()"
   ]
  },
  {
   "cell_type": "code",
   "execution_count": 7,
   "metadata": {},
   "outputs": [
    {
     "data": {
      "text/plain": [
       "3"
      ]
     },
     "execution_count": 7,
     "metadata": {},
     "output_type": "execute_result"
    }
   ],
   "source": [
    "# Cek duplikasi\n",
    "\n",
    "df.duplicated().sum()"
   ]
  },
  {
   "cell_type": "code",
   "execution_count": 8,
   "metadata": {},
   "outputs": [],
   "source": [
    "df_clean = df.copy()"
   ]
  },
  {
   "cell_type": "code",
   "execution_count": 9,
   "metadata": {},
   "outputs": [
    {
     "data": {
      "text/plain": [
       "Author       0\n",
       "Comment      0\n",
       "Published    0\n",
       "dtype: int64"
      ]
     },
     "execution_count": 9,
     "metadata": {},
     "output_type": "execute_result"
    }
   ],
   "source": [
    "# Menghandle Missing Value\n",
    "\n",
    "df_clean = df_clean.dropna()\n",
    "df_clean.isna().sum()"
   ]
  },
  {
   "cell_type": "code",
   "execution_count": 10,
   "metadata": {},
   "outputs": [
    {
     "data": {
      "text/plain": [
       "0"
      ]
     },
     "execution_count": 10,
     "metadata": {},
     "output_type": "execute_result"
    }
   ],
   "source": [
    "# Menghandle Duplikasi\n",
    "\n",
    "df_clean = df_clean.drop_duplicates()\n",
    "df_clean.duplicated().sum()"
   ]
  },
  {
   "cell_type": "code",
   "execution_count": 11,
   "metadata": {},
   "outputs": [],
   "source": [
    "# Fungsi untuk membersihkan data\n",
    "\n",
    "def remove_emoji(text):\n",
    "    if isinstance(text, str):\n",
    "        return emoji.replace_emoji(text, replace='')\n",
    "    else:\n",
    "        return text\n",
    "\n",
    "def clean_text(text):\n",
    "    text = remove_emoji(text)\n",
    "    if isinstance(text, str):\n",
    "        # Mengubah ke lowercase\n",
    "        text = text.lower()\n",
    "        # Menghilangkan URL\n",
    "        text = re.sub(r'@\\w+|#\\w+|http\\S+', '', text)\n",
    "        # Menghilangkan angka\n",
    "        text = re.sub(r\"\\d+\", '', text)\n",
    "        # Menghilangkan mention dan hashtag\n",
    "        text = re.sub(r\"@\\w+|#\\w+\", '', text)\n",
    "        # Menghilangkan karakter non-alfabet\n",
    "        text = re.sub(r\"[^a-zA-Z\\s]\", '', text)\n",
    "        # Menghilangkan spasi berlebih\n",
    "        text = re.sub(r'\\s+', ' ', text).strip()\n",
    "        # Remove single character\n",
    "        text = re.sub(r\"\\b[a-zA-Z]\\b\", \"\", text)\n",
    "    return text\n",
    "\n",
    "def correct_typo(text):\n",
    "    words = text.split()\n",
    "    normalized_words = [normalization_dict.get(word, word) for word in words]\n",
    "    return ' '.join(normalized_words)\n",
    "\n",
    "def translate_text(text):\n",
    "    translated = GoogleTranslator(source='en', target='id').translate(text)\n",
    "    return translated\n",
    "\n",
    "def remove_stopwords(text):\n",
    "    if isinstance(text, str):\n",
    "        return ' '.join([word for word in word_tokenize(text) if word not in stop_words])\n",
    "    return text\n",
    "\n",
    "def apply_stemming(text):\n",
    "    return stemmer.stem(text)\n",
    "\n",
    "def tokenization(text):\n",
    "    return word_tokenize(text)"
   ]
  },
  {
   "cell_type": "code",
   "execution_count": 12,
   "metadata": {},
   "outputs": [
    {
     "data": {
      "text/html": [
       "<div>\n",
       "<style scoped>\n",
       "    .dataframe tbody tr th:only-of-type {\n",
       "        vertical-align: middle;\n",
       "    }\n",
       "\n",
       "    .dataframe tbody tr th {\n",
       "        vertical-align: top;\n",
       "    }\n",
       "\n",
       "    .dataframe thead th {\n",
       "        text-align: right;\n",
       "    }\n",
       "</style>\n",
       "<table border=\"1\" class=\"dataframe\">\n",
       "  <thead>\n",
       "    <tr style=\"text-align: right;\">\n",
       "      <th></th>\n",
       "      <th>Author</th>\n",
       "      <th>Comment</th>\n",
       "      <th>Published</th>\n",
       "      <th>clean_comment</th>\n",
       "    </tr>\n",
       "  </thead>\n",
       "  <tbody>\n",
       "    <tr>\n",
       "      <th>0</th>\n",
       "      <td>@ulfianaini</td>\n",
       "      <td>Zonasi gak berlaku di sekolah negeri favorit, ...</td>\n",
       "      <td>2024-12-16T04:12:04Z</td>\n",
       "      <td>zonasi gak berlaku di sekolah negeri favorit r...</td>\n",
       "    </tr>\n",
       "    <tr>\n",
       "      <th>1</th>\n",
       "      <td>@somecomfort</td>\n",
       "      <td>test mtk, 7x8 berapa? jangan kelamaan mikirnya...</td>\n",
       "      <td>2024-12-15T08:06:03Z</td>\n",
       "      <td>test mtk  berapa jangan kelamaan mikirnya tapi wk</td>\n",
       "    </tr>\n",
       "  </tbody>\n",
       "</table>\n",
       "</div>"
      ],
      "text/plain": [
       "         Author                                            Comment  \\\n",
       "0   @ulfianaini  Zonasi gak berlaku di sekolah negeri favorit, ...   \n",
       "1  @somecomfort  test mtk, 7x8 berapa? jangan kelamaan mikirnya...   \n",
       "\n",
       "              Published                                      clean_comment  \n",
       "0  2024-12-16T04:12:04Z  zonasi gak berlaku di sekolah negeri favorit r...  \n",
       "1  2024-12-15T08:06:03Z  test mtk  berapa jangan kelamaan mikirnya tapi wk  "
      ]
     },
     "execution_count": 12,
     "metadata": {},
     "output_type": "execute_result"
    }
   ],
   "source": [
    "df_clean['clean_comment'] = df_clean['Comment'].apply(clean_text)\n",
    "df_clean.head(2)"
   ]
  },
  {
   "cell_type": "code",
   "execution_count": 13,
   "metadata": {},
   "outputs": [],
   "source": [
    "# df_clean['translate_text'] = df_clean['correct_typo'].apply(translate_text)\n",
    "# df_clean.head(2)"
   ]
  },
  {
   "cell_type": "code",
   "execution_count": 14,
   "metadata": {},
   "outputs": [
    {
     "data": {
      "text/html": [
       "<div>\n",
       "<style scoped>\n",
       "    .dataframe tbody tr th:only-of-type {\n",
       "        vertical-align: middle;\n",
       "    }\n",
       "\n",
       "    .dataframe tbody tr th {\n",
       "        vertical-align: top;\n",
       "    }\n",
       "\n",
       "    .dataframe thead th {\n",
       "        text-align: right;\n",
       "    }\n",
       "</style>\n",
       "<table border=\"1\" class=\"dataframe\">\n",
       "  <thead>\n",
       "    <tr style=\"text-align: right;\">\n",
       "      <th></th>\n",
       "      <th>Author</th>\n",
       "      <th>Comment</th>\n",
       "      <th>Published</th>\n",
       "      <th>clean_comment</th>\n",
       "      <th>correct_typo</th>\n",
       "    </tr>\n",
       "  </thead>\n",
       "  <tbody>\n",
       "    <tr>\n",
       "      <th>0</th>\n",
       "      <td>@ulfianaini</td>\n",
       "      <td>Zonasi gak berlaku di sekolah negeri favorit, ...</td>\n",
       "      <td>2024-12-16T04:12:04Z</td>\n",
       "      <td>zonasi gak berlaku di sekolah negeri favorit r...</td>\n",
       "      <td>zonasi tidak berlaku di sekolah negeri favorit...</td>\n",
       "    </tr>\n",
       "    <tr>\n",
       "      <th>1</th>\n",
       "      <td>@somecomfort</td>\n",
       "      <td>test mtk, 7x8 berapa? jangan kelamaan mikirnya...</td>\n",
       "      <td>2024-12-15T08:06:03Z</td>\n",
       "      <td>test mtk  berapa jangan kelamaan mikirnya tapi wk</td>\n",
       "      <td>test mtk berapa jangan kelamaan mikirnya tapi wk</td>\n",
       "    </tr>\n",
       "  </tbody>\n",
       "</table>\n",
       "</div>"
      ],
      "text/plain": [
       "         Author                                            Comment  \\\n",
       "0   @ulfianaini  Zonasi gak berlaku di sekolah negeri favorit, ...   \n",
       "1  @somecomfort  test mtk, 7x8 berapa? jangan kelamaan mikirnya...   \n",
       "\n",
       "              Published                                      clean_comment  \\\n",
       "0  2024-12-16T04:12:04Z  zonasi gak berlaku di sekolah negeri favorit r...   \n",
       "1  2024-12-15T08:06:03Z  test mtk  berapa jangan kelamaan mikirnya tapi wk   \n",
       "\n",
       "                                        correct_typo  \n",
       "0  zonasi tidak berlaku di sekolah negeri favorit...  \n",
       "1   test mtk berapa jangan kelamaan mikirnya tapi wk  "
      ]
     },
     "execution_count": 14,
     "metadata": {},
     "output_type": "execute_result"
    }
   ],
   "source": [
    "file_path = \"./data/normalisasi.xlsx\"\n",
    "data = pd.read_excel(file_path)\n",
    "normalization_dict = dict(zip(data['before'], data['after']))\n",
    "\n",
    "df_clean['correct_typo'] = df_clean['clean_comment'].apply(correct_typo)\n",
    "df_clean.head(2)"
   ]
  },
  {
   "cell_type": "code",
   "execution_count": 15,
   "metadata": {},
   "outputs": [
    {
     "data": {
      "text/html": [
       "<div>\n",
       "<style scoped>\n",
       "    .dataframe tbody tr th:only-of-type {\n",
       "        vertical-align: middle;\n",
       "    }\n",
       "\n",
       "    .dataframe tbody tr th {\n",
       "        vertical-align: top;\n",
       "    }\n",
       "\n",
       "    .dataframe thead th {\n",
       "        text-align: right;\n",
       "    }\n",
       "</style>\n",
       "<table border=\"1\" class=\"dataframe\">\n",
       "  <thead>\n",
       "    <tr style=\"text-align: right;\">\n",
       "      <th></th>\n",
       "      <th>Author</th>\n",
       "      <th>Comment</th>\n",
       "      <th>Published</th>\n",
       "      <th>clean_comment</th>\n",
       "      <th>correct_typo</th>\n",
       "      <th>remove_stopwords</th>\n",
       "    </tr>\n",
       "  </thead>\n",
       "  <tbody>\n",
       "    <tr>\n",
       "      <th>0</th>\n",
       "      <td>@ulfianaini</td>\n",
       "      <td>Zonasi gak berlaku di sekolah negeri favorit, ...</td>\n",
       "      <td>2024-12-16T04:12:04Z</td>\n",
       "      <td>zonasi gak berlaku di sekolah negeri favorit r...</td>\n",
       "      <td>zonasi tidak berlaku di sekolah negeri favorit...</td>\n",
       "      <td>zonasi berlaku sekolah negeri favorit rela bay...</td>\n",
       "    </tr>\n",
       "    <tr>\n",
       "      <th>1</th>\n",
       "      <td>@somecomfort</td>\n",
       "      <td>test mtk, 7x8 berapa? jangan kelamaan mikirnya...</td>\n",
       "      <td>2024-12-15T08:06:03Z</td>\n",
       "      <td>test mtk  berapa jangan kelamaan mikirnya tapi wk</td>\n",
       "      <td>test mtk berapa jangan kelamaan mikirnya tapi wk</td>\n",
       "      <td>test mtk mikirnya wk</td>\n",
       "    </tr>\n",
       "  </tbody>\n",
       "</table>\n",
       "</div>"
      ],
      "text/plain": [
       "         Author                                            Comment  \\\n",
       "0   @ulfianaini  Zonasi gak berlaku di sekolah negeri favorit, ...   \n",
       "1  @somecomfort  test mtk, 7x8 berapa? jangan kelamaan mikirnya...   \n",
       "\n",
       "              Published                                      clean_comment  \\\n",
       "0  2024-12-16T04:12:04Z  zonasi gak berlaku di sekolah negeri favorit r...   \n",
       "1  2024-12-15T08:06:03Z  test mtk  berapa jangan kelamaan mikirnya tapi wk   \n",
       "\n",
       "                                        correct_typo  \\\n",
       "0  zonasi tidak berlaku di sekolah negeri favorit...   \n",
       "1   test mtk berapa jangan kelamaan mikirnya tapi wk   \n",
       "\n",
       "                                    remove_stopwords  \n",
       "0  zonasi berlaku sekolah negeri favorit rela bay...  \n",
       "1                               test mtk mikirnya wk  "
      ]
     },
     "execution_count": 15,
     "metadata": {},
     "output_type": "execute_result"
    }
   ],
   "source": [
    "stop_words = set(stopwords.words('indonesian'))\n",
    "\n",
    "df_clean['remove_stopwords'] = df_clean['correct_typo'].apply(remove_stopwords)\n",
    "df_clean.head(2)"
   ]
  },
  {
   "cell_type": "code",
   "execution_count": 16,
   "metadata": {},
   "outputs": [
    {
     "data": {
      "text/html": [
       "<div>\n",
       "<style scoped>\n",
       "    .dataframe tbody tr th:only-of-type {\n",
       "        vertical-align: middle;\n",
       "    }\n",
       "\n",
       "    .dataframe tbody tr th {\n",
       "        vertical-align: top;\n",
       "    }\n",
       "\n",
       "    .dataframe thead th {\n",
       "        text-align: right;\n",
       "    }\n",
       "</style>\n",
       "<table border=\"1\" class=\"dataframe\">\n",
       "  <thead>\n",
       "    <tr style=\"text-align: right;\">\n",
       "      <th></th>\n",
       "      <th>Author</th>\n",
       "      <th>Comment</th>\n",
       "      <th>Published</th>\n",
       "      <th>clean_comment</th>\n",
       "      <th>correct_typo</th>\n",
       "      <th>remove_stopwords</th>\n",
       "      <th>tokens</th>\n",
       "    </tr>\n",
       "  </thead>\n",
       "  <tbody>\n",
       "    <tr>\n",
       "      <th>0</th>\n",
       "      <td>@ulfianaini</td>\n",
       "      <td>Zonasi gak berlaku di sekolah negeri favorit, ...</td>\n",
       "      <td>2024-12-16T04:12:04Z</td>\n",
       "      <td>zonasi gak berlaku di sekolah negeri favorit r...</td>\n",
       "      <td>zonasi tidak berlaku di sekolah negeri favorit...</td>\n",
       "      <td>zonasi berlaku sekolah negeri favorit rela bay...</td>\n",
       "      <td>[zonasi, berlaku, sekolah, negeri, favorit, re...</td>\n",
       "    </tr>\n",
       "    <tr>\n",
       "      <th>1</th>\n",
       "      <td>@somecomfort</td>\n",
       "      <td>test mtk, 7x8 berapa? jangan kelamaan mikirnya...</td>\n",
       "      <td>2024-12-15T08:06:03Z</td>\n",
       "      <td>test mtk  berapa jangan kelamaan mikirnya tapi wk</td>\n",
       "      <td>test mtk berapa jangan kelamaan mikirnya tapi wk</td>\n",
       "      <td>test mtk mikirnya wk</td>\n",
       "      <td>[test, mtk, mikirnya, wk]</td>\n",
       "    </tr>\n",
       "  </tbody>\n",
       "</table>\n",
       "</div>"
      ],
      "text/plain": [
       "         Author                                            Comment  \\\n",
       "0   @ulfianaini  Zonasi gak berlaku di sekolah negeri favorit, ...   \n",
       "1  @somecomfort  test mtk, 7x8 berapa? jangan kelamaan mikirnya...   \n",
       "\n",
       "              Published                                      clean_comment  \\\n",
       "0  2024-12-16T04:12:04Z  zonasi gak berlaku di sekolah negeri favorit r...   \n",
       "1  2024-12-15T08:06:03Z  test mtk  berapa jangan kelamaan mikirnya tapi wk   \n",
       "\n",
       "                                        correct_typo  \\\n",
       "0  zonasi tidak berlaku di sekolah negeri favorit...   \n",
       "1   test mtk berapa jangan kelamaan mikirnya tapi wk   \n",
       "\n",
       "                                    remove_stopwords  \\\n",
       "0  zonasi berlaku sekolah negeri favorit rela bay...   \n",
       "1                               test mtk mikirnya wk   \n",
       "\n",
       "                                              tokens  \n",
       "0  [zonasi, berlaku, sekolah, negeri, favorit, re...  \n",
       "1                          [test, mtk, mikirnya, wk]  "
      ]
     },
     "execution_count": 16,
     "metadata": {},
     "output_type": "execute_result"
    }
   ],
   "source": [
    "df_clean['tokens'] = df_clean['remove_stopwords'].apply(tokenization)\n",
    "df_clean.head(2)"
   ]
  },
  {
   "cell_type": "code",
   "execution_count": 17,
   "metadata": {},
   "outputs": [],
   "source": [
    "# factory = StemmerFactory()\n",
    "# stemmer = factory.create_stemmer()\n",
    "\n",
    "# df_clean['stem_comment'] = df_clean['tokens'].swifter.apply(apply_stemming)\n",
    "# df_clean.head(2)"
   ]
  },
  {
   "cell_type": "code",
   "execution_count": 18,
   "metadata": {},
   "outputs": [],
   "source": [
    "# Membuat Label\n",
    "\n",
    "def get_sentiment(text):\n",
    "\n",
    "    sentiment = TextBlob(text).sentiment\n",
    "\n",
    "    if sentiment.polarity > 0.1:\n",
    "        return 'positif'\n",
    "    elif sentiment.polarity < -0.1:\n",
    "        return 'negatif'\n",
    "    else:\n",
    "        return 'netral'\n",
    "\n",
    "df_clean['label'] = df_clean['remove_stopwords'].apply(get_sentiment)"
   ]
  },
  {
   "cell_type": "code",
   "execution_count": 19,
   "metadata": {},
   "outputs": [
    {
     "data": {
      "text/plain": [
       "label\n",
       "netral     9331\n",
       "positif     472\n",
       "negatif     290\n",
       "Name: count, dtype: int64"
      ]
     },
     "execution_count": 19,
     "metadata": {},
     "output_type": "execute_result"
    }
   ],
   "source": [
    "df_clean['label'].value_counts()"
   ]
  },
  {
   "cell_type": "code",
   "execution_count": 20,
   "metadata": {},
   "outputs": [
    {
     "data": {
      "image/png": "[encoded data removed]",
      "text/plain": [
       "<Figure size 600x600 with 1 Axes>"
      ]
     },
     "metadata": {},
     "output_type": "display_data"
    }
   ],
   "source": [
    "def plot_pie(data):\n",
    "\n",
    "    pie_data = data.value_counts()\n",
    "    color_map = {\"positif\": \"#43AD65\", \"netral\": \"#F79647\", \"negatif\": \"#B21E58\"}\n",
    "    \n",
    "    # Buat label\n",
    "    labels = [\n",
    "        (\n",
    "            f\"{str(pie_data.index[i]).title()}\\n{pie_data.values[i]}\"\n",
    "            + f\" ({round(pie_data.values[i] / sum(pie_data.values) * 100, 2)}%)\"\n",
    "        )\n",
    "        for i in range(len(pie_data.values))\n",
    "    ]\n",
    "\n",
    "    # Plot pie chart\n",
    "    plt.figure(figsize=(6, 6))\n",
    "    plt.pie(\n",
    "        pie_data.values,\n",
    "        labels=labels,\n",
    "        colors=[color_map.get(str(x).lower(), \"#cccccc\") for x in pie_data.index],\n",
    "        wedgeprops={\"width\": 0.3},\n",
    "        startangle=90\n",
    "    )\n",
    "\n",
    "    # Informasi total\n",
    "    plt.title(\"Sentiment Distribution\", fontsize=12)\n",
    "    plt.text(0, 0.05, sum(pie_data.values), ha=\"center\", va=\"center\", fontsize=32)\n",
    "    plt.text(0, -0.15, \"Total Tweets\", ha=\"center\", va=\"center\", fontsize=18)\n",
    "    plt.show()\n",
    "\n",
    "plot_pie(df_clean[\"label\"])"
   ]
  },
  {
   "cell_type": "code",
   "execution_count": 21,
   "metadata": {},
   "outputs": [
    {
     "data": {
      "text/html": [
       "<div>\n",
       "<style scoped>\n",
       "    .dataframe tbody tr th:only-of-type {\n",
       "        vertical-align: middle;\n",
       "    }\n",
       "\n",
       "    .dataframe tbody tr th {\n",
       "        vertical-align: top;\n",
       "    }\n",
       "\n",
       "    .dataframe thead th {\n",
       "        text-align: right;\n",
       "    }\n",
       "</style>\n",
       "<table border=\"1\" class=\"dataframe\">\n",
       "  <thead>\n",
       "    <tr style=\"text-align: right;\">\n",
       "      <th></th>\n",
       "      <th>Author</th>\n",
       "      <th>Comment</th>\n",
       "      <th>Published</th>\n",
       "      <th>clean_comment</th>\n",
       "      <th>correct_typo</th>\n",
       "      <th>remove_stopwords</th>\n",
       "      <th>tokens</th>\n",
       "      <th>label</th>\n",
       "    </tr>\n",
       "  </thead>\n",
       "  <tbody>\n",
       "    <tr>\n",
       "      <th>1703</th>\n",
       "      <td>@anto11anto33</td>\n",
       "      <td>Tetap lebih bagus sistem pendidikan jaman dulu...</td>\n",
       "      <td>2024-10-26T23:17:30Z</td>\n",
       "      <td>tetap lebih bagus sistem pendidikan jaman dulu...</td>\n",
       "      <td>tetap lebih bagus sistem pendidikan zaman dulu...</td>\n",
       "      <td>bagus sistem pendidikan zaman neko negara ngan...</td>\n",
       "      <td>[bagus, sistem, pendidikan, zaman, neko, negar...</td>\n",
       "      <td>netral</td>\n",
       "    </tr>\n",
       "    <tr>\n",
       "      <th>5212</th>\n",
       "      <td>@uwonkbreeder</td>\n",
       "      <td>1. Game online tidak boleh ada di hp,&lt;br&gt;2. KU...</td>\n",
       "      <td>2024-10-15T16:20:45Z</td>\n",
       "      <td>game online tidak boleh ada di hpbr kurikulum ...</td>\n",
       "      <td>game online tidak boleh ada di hpbr kurikulum ...</td>\n",
       "      <td>game online hpbr kurikulum pakai sd tau kuriku...</td>\n",
       "      <td>[game, online, hpbr, kurikulum, pakai, sd, tau...</td>\n",
       "      <td>negatif</td>\n",
       "    </tr>\n",
       "    <tr>\n",
       "      <th>1906</th>\n",
       "      <td>@swastianaekayunita3883</td>\n",
       "      <td>Inspiiring bgt kak terimakasih infonya, tapi s...</td>\n",
       "      <td>2024-10-25T16:42:24Z</td>\n",
       "      <td>inspiiring bgt kak terimakasih infonya tapi sa...</td>\n",
       "      <td>inspiiring banget kakak terimakasih infonya ta...</td>\n",
       "      <td>inspiiring banget kakak terimakasih infonya ta...</td>\n",
       "      <td>[inspiiring, banget, kakak, terimakasih, infon...</td>\n",
       "      <td>netral</td>\n",
       "    </tr>\n",
       "    <tr>\n",
       "      <th>5994</th>\n",
       "      <td>@mrezar6969</td>\n",
       "      <td>Kenapa guru sibuk ngurus PPG karena ada sejuml...</td>\n",
       "      <td>2024-10-14T04:51:07Z</td>\n",
       "      <td>kenapa guru sibuk ngurus ppg karena ada sejuml...</td>\n",
       "      <td>kenapa guru sibuk merawat ppg karena ada sejum...</td>\n",
       "      <td>guru sibuk merawat ppg nominal uang yg guru te...</td>\n",
       "      <td>[guru, sibuk, merawat, ppg, nominal, uang, yg,...</td>\n",
       "      <td>netral</td>\n",
       "    </tr>\n",
       "    <tr>\n",
       "      <th>9539</th>\n",
       "      <td>@bimademahendra</td>\n",
       "      <td>Ini beneran sistem zonasi banyak dampak negati...</td>\n",
       "      <td>2024-10-10T20:03:12Z</td>\n",
       "      <td>ini beneran sistem zonasi banyak dampak negati...</td>\n",
       "      <td>ini benar sistem zonasi banyak dampak negatifn...</td>\n",
       "      <td>sistem zonasi dampak negatifnya magang guru ba...</td>\n",
       "      <td>[sistem, zonasi, dampak, negatifnya, magang, g...</td>\n",
       "      <td>netral</td>\n",
       "    </tr>\n",
       "    <tr>\n",
       "      <th>2718</th>\n",
       "      <td>@ayumartha3928</td>\n",
       "      <td>sebagai salah satu guru honorer, semua yang di...</td>\n",
       "      <td>2024-10-21T15:31:33Z</td>\n",
       "      <td>sebagai salah satu guru honorer semua yang dir...</td>\n",
       "      <td>sebagai salah satu guru honorer semua yang dir...</td>\n",
       "      <td>salah guru honorer dirangkum video miris perke...</td>\n",
       "      <td>[salah, guru, honorer, dirangkum, video, miris...</td>\n",
       "      <td>netral</td>\n",
       "    </tr>\n",
       "    <tr>\n",
       "      <th>1743</th>\n",
       "      <td>@indrahermawan734</td>\n",
       "      <td>Kembalikan sperti sistem 90an&lt;br&gt;Ebta Ebtanas ...</td>\n",
       "      <td>2024-10-26T13:07:58Z</td>\n",
       "      <td>kembalikan sperti sistem anbrebta ebtanas terb...</td>\n",
       "      <td>kembalikan sperti sistem anbrebta ebtanas terb...</td>\n",
       "      <td>kembalikan sperti sistem anbrebta ebtanas terb...</td>\n",
       "      <td>[kembalikan, sperti, sistem, anbrebta, ebtanas...</td>\n",
       "      <td>positif</td>\n",
       "    </tr>\n",
       "    <tr>\n",
       "      <th>1673</th>\n",
       "      <td>@ekapurwita1393</td>\n",
       "      <td>Gua dari awal udah ga setuju sistem ini. Zonas...</td>\n",
       "      <td>2024-10-27T02:40:19Z</td>\n",
       "      <td>gua dari awal udah ga setuju sistem ini zonasi...</td>\n",
       "      <td>aku dari awal sudah tidak setuju sistem ini zo...</td>\n",
       "      <td>setuju sistem zonasi lakukan kualitas sekolah ...</td>\n",
       "      <td>[setuju, sistem, zonasi, lakukan, kualitas, se...</td>\n",
       "      <td>netral</td>\n",
       "    </tr>\n",
       "    <tr>\n",
       "      <th>4742</th>\n",
       "      <td>@ernita9050</td>\n",
       "      <td>Waaw... Gk bs berkata kata stlah menonton YouT...</td>\n",
       "      <td>2024-10-16T06:52:08Z</td>\n",
       "      <td>waaw gk bs berkata kata stlah menonton youtube...</td>\n",
       "      <td>waaw tidak bisa berkata kata setelah menonton ...</td>\n",
       "      <td>waaw menonton youtube fery brsegitu parahnya s...</td>\n",
       "      <td>[waaw, menonton, youtube, fery, brsegitu, para...</td>\n",
       "      <td>netral</td>\n",
       "    </tr>\n",
       "    <tr>\n",
       "      <th>5240</th>\n",
       "      <td>@IslamistSocialist371</td>\n",
       "      <td>Our nation is evolving, just backwards</td>\n",
       "      <td>2024-10-15T14:24:52Z</td>\n",
       "      <td>our nation is evolving just backwards</td>\n",
       "      <td>our nation is evolving just backwards</td>\n",
       "      <td>our nation is evolving just backwards</td>\n",
       "      <td>[our, nation, is, evolving, just, backwards]</td>\n",
       "      <td>netral</td>\n",
       "    </tr>\n",
       "  </tbody>\n",
       "</table>\n",
       "</div>"
      ],
      "text/plain": [
       "                       Author  \\\n",
       "1703            @anto11anto33   \n",
       "5212            @uwonkbreeder   \n",
       "1906  @swastianaekayunita3883   \n",
       "5994              @mrezar6969   \n",
       "9539          @bimademahendra   \n",
       "2718           @ayumartha3928   \n",
       "1743        @indrahermawan734   \n",
       "1673          @ekapurwita1393   \n",
       "4742              @ernita9050   \n",
       "5240    @IslamistSocialist371   \n",
       "\n",
       "                                                Comment             Published  \\\n",
       "1703  Tetap lebih bagus sistem pendidikan jaman dulu...  2024-10-26T23:17:30Z   \n",
       "5212  1. Game online tidak boleh ada di hp,<br>2. KU...  2024-10-15T16:20:45Z   \n",
       "1906  Inspiiring bgt kak terimakasih infonya, tapi s...  2024-10-25T16:42:24Z   \n",
       "5994  Kenapa guru sibuk ngurus PPG karena ada sejuml...  2024-10-14T04:51:07Z   \n",
       "9539  Ini beneran sistem zonasi banyak dampak negati...  2024-10-10T20:03:12Z   \n",
       "2718  sebagai salah satu guru honorer, semua yang di...  2024-10-21T15:31:33Z   \n",
       "1743  Kembalikan sperti sistem 90an<br>Ebta Ebtanas ...  2024-10-26T13:07:58Z   \n",
       "1673  Gua dari awal udah ga setuju sistem ini. Zonas...  2024-10-27T02:40:19Z   \n",
       "4742  Waaw... Gk bs berkata kata stlah menonton YouT...  2024-10-16T06:52:08Z   \n",
       "5240             Our nation is evolving, just backwards  2024-10-15T14:24:52Z   \n",
       "\n",
       "                                          clean_comment  \\\n",
       "1703  tetap lebih bagus sistem pendidikan jaman dulu...   \n",
       "5212  game online tidak boleh ada di hpbr kurikulum ...   \n",
       "1906  inspiiring bgt kak terimakasih infonya tapi sa...   \n",
       "5994  kenapa guru sibuk ngurus ppg karena ada sejuml...   \n",
       "9539  ini beneran sistem zonasi banyak dampak negati...   \n",
       "2718  sebagai salah satu guru honorer semua yang dir...   \n",
       "1743  kembalikan sperti sistem anbrebta ebtanas terb...   \n",
       "1673  gua dari awal udah ga setuju sistem ini zonasi...   \n",
       "4742  waaw gk bs berkata kata stlah menonton youtube...   \n",
       "5240              our nation is evolving just backwards   \n",
       "\n",
       "                                           correct_typo  \\\n",
       "1703  tetap lebih bagus sistem pendidikan zaman dulu...   \n",
       "5212  game online tidak boleh ada di hpbr kurikulum ...   \n",
       "1906  inspiiring banget kakak terimakasih infonya ta...   \n",
       "5994  kenapa guru sibuk merawat ppg karena ada sejum...   \n",
       "9539  ini benar sistem zonasi banyak dampak negatifn...   \n",
       "2718  sebagai salah satu guru honorer semua yang dir...   \n",
       "1743  kembalikan sperti sistem anbrebta ebtanas terb...   \n",
       "1673  aku dari awal sudah tidak setuju sistem ini zo...   \n",
       "4742  waaw tidak bisa berkata kata setelah menonton ...   \n",
       "5240              our nation is evolving just backwards   \n",
       "\n",
       "                                       remove_stopwords  \\\n",
       "1703  bagus sistem pendidikan zaman neko negara ngan...   \n",
       "5212  game online hpbr kurikulum pakai sd tau kuriku...   \n",
       "1906  inspiiring banget kakak terimakasih infonya ta...   \n",
       "5994  guru sibuk merawat ppg nominal uang yg guru te...   \n",
       "9539  sistem zonasi dampak negatifnya magang guru ba...   \n",
       "2718  salah guru honorer dirangkum video miris perke...   \n",
       "1743  kembalikan sperti sistem anbrebta ebtanas terb...   \n",
       "1673  setuju sistem zonasi lakukan kualitas sekolah ...   \n",
       "4742  waaw menonton youtube fery brsegitu parahnya s...   \n",
       "5240              our nation is evolving just backwards   \n",
       "\n",
       "                                                 tokens    label  \n",
       "1703  [bagus, sistem, pendidikan, zaman, neko, negar...   netral  \n",
       "5212  [game, online, hpbr, kurikulum, pakai, sd, tau...  negatif  \n",
       "1906  [inspiiring, banget, kakak, terimakasih, infon...   netral  \n",
       "5994  [guru, sibuk, merawat, ppg, nominal, uang, yg,...   netral  \n",
       "9539  [sistem, zonasi, dampak, negatifnya, magang, g...   netral  \n",
       "2718  [salah, guru, honorer, dirangkum, video, miris...   netral  \n",
       "1743  [kembalikan, sperti, sistem, anbrebta, ebtanas...  positif  \n",
       "1673  [setuju, sistem, zonasi, lakukan, kualitas, se...   netral  \n",
       "4742  [waaw, menonton, youtube, fery, brsegitu, para...   netral  \n",
       "5240       [our, nation, is, evolving, just, backwards]   netral  "
      ]
     },
     "execution_count": 21,
     "metadata": {},
     "output_type": "execute_result"
    }
   ],
   "source": [
    "df_clean.sample(10)"
   ]
  },
  {
   "cell_type": "code",
   "execution_count": 22,
   "metadata": {},
   "outputs": [
    {
     "data": {
      "text/plain": [
       "Author              0\n",
       "Comment             0\n",
       "Published           0\n",
       "clean_comment       0\n",
       "correct_typo        0\n",
       "remove_stopwords    0\n",
       "tokens              0\n",
       "label               0\n",
       "dtype: int64"
      ]
     },
     "execution_count": 22,
     "metadata": {},
     "output_type": "execute_result"
    }
   ],
   "source": [
    "df_clean.isna().sum()"
   ]
  },
  {
   "cell_type": "markdown",
   "metadata": {},
   "source": [
    "### Save dataset|"
   ]
  },
  {
   "cell_type": "code",
   "execution_count": 71,
   "metadata": {},
   "outputs": [],
   "source": [
    "# Simpan file\n",
    "\n",
    "df_clean.to_csv('./data/data_clean.csv', index=False) # data yang sudah bersih            "
   ]
  },
  {
   "cell_type": "code",
   "execution_count": null,
   "metadata": {},
   "outputs": [],
   "source": []
  }
 ],
 "metadata": {
  "kernelspec": {
   "display_name": "base",
   "language": "python",
   "name": "python3"
  },
  "language_info": {
   "codemirror_mode": {
    "name": "ipython",
    "version": 3
   },
   "file_extension": ".py",
   "mimetype": "text/x-python",
   "name": "python",
   "nbconvert_exporter": "python",
   "pygments_lexer": "ipython3",
   "version": "3.11.4"
  },
  "orig_nbformat": 4
 },
 "nbformat": 4,
 "nbformat_minor": 2
}
